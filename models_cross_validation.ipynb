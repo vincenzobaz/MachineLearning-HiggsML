{
 "cells": [
  {
   "cell_type": "code",
   "execution_count": 3,
   "metadata": {
    "collapsed": true
   },
   "outputs": [],
   "source": [
    "import scripts.proj1_helpers as helper\n",
    "\n",
    "import numpy as np\n",
    "import pandas as pd\n",
    "import matplotlib.pyplot as plt\n",
    "import time\n",
    "\n",
    "#import implementations as imp\n",
    "import cross_validation as cv\n",
    "#from preprocessor import Preprocessor\n",
    "from model_ensembler import ModelEnsembler\n",
    "import preprocessing\n",
    "\n",
    "import run\n",
    "from least_squares import LeastSquares\n",
    "from logistic import LogisticRegression\n",
    "%matplotlib inline\n",
    "%load_ext autoreload\n",
    "%autoreload 2"
   ]
  },
  {
   "cell_type": "code",
   "execution_count": 21,
   "metadata": {
    "collapsed": true
   },
   "outputs": [],
   "source": [
    "import requests as req\n",
    "def notify():\n",
    "    req.post(\"https://api.telegram.org/bot431495965:AAHvxN4DFTH0kN0kPOhCb9bAhQZHf4dhA8Q/sendMessage\",\n",
    "            json={\"chat_id\": 125001480, \"text\": \"Done computing\"})"
   ]
  },
  {
   "cell_type": "markdown",
   "metadata": {},
   "source": [
    "## Import data"
   ]
  },
  {
   "cell_type": "code",
   "execution_count": 4,
   "metadata": {
    "collapsed": true
   },
   "outputs": [],
   "source": [
    "y_train, x_train, ids_train = helper.load_csv_data('train.csv')\n",
    "y_test, x_test, ids_test = helper.load_csv_data('test.csv')\n",
    "y_train_logi = y_train.copy()\n",
    "y_train_logi[y_train_logi < 0] = 0\n",
    "x_train_preprocessed = preprocessing.preprocess(x_train)"
   ]
  },
  {
   "cell_type": "markdown",
   "metadata": {},
   "source": [
    "## Models"
   ]
  },
  {
   "cell_type": "code",
   "execution_count": 5,
   "metadata": {
    "collapsed": true
   },
   "outputs": [],
   "source": [
    "def get_mean_and_variance(accuracies):\n",
    "    mean = sum(accuracies) / len(accuracies)\n",
    "    variances = np.std(np.array(accuracies))\n",
    "    return mean, variances"
   ]
  },
  {
   "cell_type": "code",
   "execution_count": 6,
   "metadata": {
    "collapsed": true
   },
   "outputs": [],
   "source": [
    "def display_result_basic(accuracy):\n",
    "    mean, variance = get_mean_and_variance(accuracy)\n",
    "    print('Accuracies', accuracy)\n",
    "    print('Mean:', mean)\n",
    "    print('Variance:', variance)"
   ]
  },
  {
   "cell_type": "code",
   "execution_count": 23,
   "metadata": {
    "collapsed": true
   },
   "outputs": [],
   "source": [
    "def print_result(accuracy):\n",
    "    print('Accuracy per cat:', list(map(lambda list_: sum(list_) / len(list_), accuracy)))\n",
    "    variances = list(map(lambda list_: np.std(np.array(list_)), accuracy))\n",
    "    print('Variances per cat:', variances)\n",
    "    accuracies = np.ravel(np.array(accuracy))\n",
    "    print('Total mean:', np.sum(accuracies) / accuracies.size)\n",
    "    "
   ]
  },
  {
   "cell_type": "code",
   "execution_count": 8,
   "metadata": {
    "collapsed": true
   },
   "outputs": [],
   "source": [
    "def cat_cross_validation(models, y_train, x_train):\n",
    "    accuracies = []\n",
    "    variances = []\n",
    "    i=0\n",
    "\n",
    "    for cat_data in run.category_iter(y_train, x_train, 22, x_test):\n",
    "        y_train_cat, x_train_cat, x_test_cat, cat_indicies_te = cat_data\n",
    "        x_train_cat, x_test_cat = preprocessing.preprocess(x_train_cat, x_test_cat)\n",
    "        #print('Cat number:', i, 'with:', y_train_cat.size, 'elements')\n",
    "\n",
    "        accuracy = np.array(cv.cross_validation(y_train_cat, x_train_cat, 5, models[i]))\n",
    "\n",
    "        accuracies.append(accuracy)\n",
    "        variances.append(np.std(np.array(accuracies[i])))\n",
    "        #print('Variance:', variances[i])\n",
    "        i = i + 1\n",
    "        #print('')\n",
    "    \n",
    "    return accuracies, variances"
   ]
  },
  {
   "cell_type": "markdown",
   "metadata": {},
   "source": [
    "## Least Squares on entire matrix"
   ]
  },
  {
   "cell_type": "code",
   "execution_count": 32,
   "metadata": {
    "scrolled": false
   },
   "outputs": [
    {
     "name": "stdout",
     "output_type": "stream",
     "text": [
      "Executed step 1 / 5 of cross validation\n",
      "Executed step 2 / 5 of cross validation\n",
      "Executed step 3 / 5 of cross validation\n",
      "Executed step 4 / 5 of cross validation\n",
      "Executed step 5 / 5 of cross validation\n",
      "Executed step 1 / 5 of cross validation\n",
      "Executed step 2 / 5 of cross validation\n",
      "Executed step 3 / 5 of cross validation\n",
      "Executed step 4 / 5 of cross validation\n",
      "Executed step 5 / 5 of cross validation\n",
      "Executed step 1 / 5 of cross validation\n",
      "Executed step 2 / 5 of cross validation\n",
      "Executed step 3 / 5 of cross validation\n",
      "Executed step 4 / 5 of cross validation\n",
      "Executed step 5 / 5 of cross validation\n",
      "Executed step 1 / 5 of cross validation\n",
      "Executed step 2 / 5 of cross validation\n",
      "Executed step 3 / 5 of cross validation\n",
      "Executed step 4 / 5 of cross validation\n",
      "Executed step 5 / 5 of cross validation\n",
      "Executed step 1 / 5 of cross validation\n",
      "Executed step 2 / 5 of cross validation\n",
      "Executed step 3 / 5 of cross validation\n",
      "Executed step 4 / 5 of cross validation\n",
      "Executed step 5 / 5 of cross validation\n",
      "Executed step 1 / 5 of cross validation\n",
      "Executed step 2 / 5 of cross validation\n",
      "Executed step 3 / 5 of cross validation\n",
      "Executed step 4 / 5 of cross validation\n",
      "Executed step 5 / 5 of cross validation\n",
      "Executed step 1 / 5 of cross validation\n",
      "Executed step 2 / 5 of cross validation\n",
      "Executed step 3 / 5 of cross validation\n",
      "Executed step 4 / 5 of cross validation\n",
      "Executed step 5 / 5 of cross validation\n",
      "Executed step 1 / 5 of cross validation\n",
      "Executed step 2 / 5 of cross validation\n",
      "Executed step 3 / 5 of cross validation\n",
      "Executed step 4 / 5 of cross validation\n",
      "Executed step 5 / 5 of cross validation\n",
      "Executed step 1 / 5 of cross validation\n",
      "Executed step 2 / 5 of cross validation\n",
      "Executed step 3 / 5 of cross validation\n",
      "Executed step 4 / 5 of cross validation\n",
      "Executed step 5 / 5 of cross validation\n",
      "Executed step 1 / 5 of cross validation\n",
      "Executed step 2 / 5 of cross validation\n",
      "Executed step 3 / 5 of cross validation\n",
      "Executed step 4 / 5 of cross validation\n",
      "Executed step 5 / 5 of cross validation\n",
      "Executed step 1 / 5 of cross validation\n",
      "Executed step 2 / 5 of cross validation\n",
      "Executed step 3 / 5 of cross validation\n",
      "Executed step 4 / 5 of cross validation\n",
      "Executed step 5 / 5 of cross validation\n",
      "Executed step 1 / 5 of cross validation\n",
      "Executed step 2 / 5 of cross validation\n",
      "Executed step 3 / 5 of cross validation\n",
      "Executed step 4 / 5 of cross validation\n",
      "Executed step 5 / 5 of cross validation\n"
     ]
    }
   ],
   "source": [
    "mean_std = []\n",
    "for d in range(1, 13):\n",
    "    ls = LeastSquares(degree=d, solver='pseudo')\n",
    "    f = lambda ytr, xtr, xte: ls.train(ytr, xtr).predict_labels(xte)\n",
    "    xtr = preprocessing.preprocess(x_train)\n",
    "    accs = run.best_cross_validation(y_train, xtr, 5, f)\n",
    "    mean_std.append(accs)\n",
    "    print('tested degree', d)\n",
    "notify()"
   ]
  },
  {
   "cell_type": "code",
   "execution_count": 55,
   "metadata": {},
   "outputs": [],
   "source": [
    "degree = np.arange(1,13)\n",
    "degree = np.reshape(degree, (len(degree), 1))\n",
    "vals = np.hstack([degree, np.array(mean_std)])\n",
    "np.savetxt('leastsquares_entire_degree.csv', vals, delimiter=',', header='d, f1, f2, f3, f4, f5')"
   ]
  },
  {
   "cell_type": "code",
   "execution_count": 33,
   "metadata": {
    "scrolled": true
   },
   "outputs": [
    {
     "data": {
      "image/png": "[encoded data removed]",
      "text/plain": [
       "<matplotlib.figure.Figure at 0x7ffaad18ef98>"
      ]
     },
     "metadata": {},
     "output_type": "display_data"
    }
   ],
   "source": [
    "x = range(1,13)\n",
    "y = [np.median(acc) for acc in mean_std]\n",
    "yerrs = [np.std(acc) for acc in mean_std]\n",
    "fig, ax = plt.subplots()\n",
    "ax.bar(x, y, yerr=yerrs)\n",
    "ax.set_xticks(x)\n",
    "ax.set_ybound([0.5, 0.85])\n",
    "ax.set_title('Least squares on entire matrix: accuracy as a function of the degree')\n",
    "ax.set_xlabel('Degree')\n",
    "ax.set_ylabel('Accuracy and standard deviation')\n",
    "plt.savefig('ls_deg.png')"
   ]
  },
  {
   "cell_type": "markdown",
   "metadata": {},
   "source": [
    "## Logistic on whole matrix"
   ]
  },
  {
   "cell_type": "code",
   "execution_count": 60,
   "metadata": {},
   "outputs": [
    {
     "name": "stdout",
     "output_type": "stream",
     "text": [
      "tested degree 1\n",
      "tested degree 2\n",
      "tested degree 3\n",
      "tested degree 4\n",
      "tested degree 5\n",
      "tested degree 6\n",
      "tested degree 7\n",
      "tested degree 8\n",
      "tested degree 9\n"
     ]
    }
   ],
   "source": [
    "mean_std = []\n",
    "x =  range(1, 10)\n",
    "xtr = preprocessing.preprocess(x_train)\n",
    "for d in x:\n",
    "    lr = LogisticRegression(degree=d, gamma=0.1)\n",
    "    f = lambda ytr, xtr, xte: lr.train(ytr, xtr).predict_labels(xte)\n",
    "    accs = run.best_cross_validation(y_train_logi, xtr, 5, f)\n",
    "    mean_std.append(accs)\n",
    "    print('tested degree', d)\n",
    "notify()"
   ]
  },
  {
   "cell_type": "code",
   "execution_count": 62,
   "metadata": {},
   "outputs": [],
   "source": [
    "degree = np.arange(1, 10)\n",
    "degree = np.reshape(degree, (len(degree), 1))\n",
    "vals = np.hstack([degree, np.array(mean_std)])\n",
    "np.savetxt('logistic_entire_degree.csv', vals, delimiter=',', header='d, f1, f2, f3, f4, f5')"
   ]
  },
  {
   "cell_type": "code",
   "execution_count": 63,
   "metadata": {},
   "outputs": [
    {
     "data": {
      "image/png": "[encoded data removed]",
      "text/plain": [
       "<matplotlib.figure.Figure at 0x7ffaad9c8b38>"
      ]
     },
     "metadata": {},
     "output_type": "display_data"
    }
   ],
   "source": [
    "y = [np.median(acc) for acc in mean_std]\n",
    "yerrs = [np.std(acc) for acc in mean_std]\n",
    "fig, ax = plt.subplots()\n",
    "ax.bar(x, y, yerr=yerrs)\n",
    "ax.set_xticks(x)\n",
    "#ax.set_ybound([0.5, 0.85])\n",
    "ax.set_title('Logistic regression on entire matrix: accuracy as a function of the degree')\n",
    "ax.set_xlabel('Degree')\n",
    "ax.set_ylabel('Accuracy and standard deviation')\n",
    "plt.savefig('lr_deg.png')"
   ]
  },
  {
   "cell_type": "markdown",
   "metadata": {},
   "source": [
    "## Least squares categories"
   ]
  },
  {
   "cell_type": "code",
   "execution_count": 133,
   "metadata": {
    "scrolled": true
   },
   "outputs": [
    {
     "name": "stdout",
     "output_type": "stream",
     "text": [
      "tested degree 1 on cat 0\n",
      "tested degree 2 on cat 0\n",
      "tested degree 3 on cat 0\n",
      "tested degree 4 on cat 0\n",
      "tested degree 5 on cat 0\n",
      "tested degree 6 on cat 0\n",
      "tested degree 7 on cat 0\n"
     ]
    },
    {
     "ename": "KeyboardInterrupt",
     "evalue": "",
     "output_type": "error",
     "traceback": [
      "\u001b[0;31m---------------------------------------------------------------------------\u001b[0m",
      "\u001b[0;31mKeyboardInterrupt\u001b[0m                         Traceback (most recent call last)",
      "\u001b[0;32m<ipython-input-133-467037fdb6cb>\u001b[0m in \u001b[0;36m<module>\u001b[0;34m()\u001b[0m\n\u001b[1;32m     12\u001b[0m         \u001b[0mls\u001b[0m \u001b[0;34m=\u001b[0m \u001b[0mLeastSquares\u001b[0m\u001b[0;34m(\u001b[0m\u001b[0mdegree\u001b[0m\u001b[0;34m=\u001b[0m\u001b[0md\u001b[0m\u001b[0;34m,\u001b[0m \u001b[0msolver\u001b[0m\u001b[0;34m=\u001b[0m\u001b[0;34m'pseudo'\u001b[0m\u001b[0;34m)\u001b[0m\u001b[0;34m\u001b[0m\u001b[0m\n\u001b[1;32m     13\u001b[0m         \u001b[0mf\u001b[0m \u001b[0;34m=\u001b[0m \u001b[0;32mlambda\u001b[0m \u001b[0mytr\u001b[0m\u001b[0;34m,\u001b[0m \u001b[0mxtr\u001b[0m\u001b[0;34m,\u001b[0m \u001b[0mxte\u001b[0m\u001b[0;34m:\u001b[0m \u001b[0mls\u001b[0m\u001b[0;34m.\u001b[0m\u001b[0mtrain\u001b[0m\u001b[0;34m(\u001b[0m\u001b[0mytr\u001b[0m\u001b[0;34m,\u001b[0m \u001b[0mxtr\u001b[0m\u001b[0;34m)\u001b[0m\u001b[0;34m.\u001b[0m\u001b[0mpredict_labels\u001b[0m\u001b[0;34m(\u001b[0m\u001b[0mxte\u001b[0m\u001b[0;34m)\u001b[0m\u001b[0;34m\u001b[0m\u001b[0m\n\u001b[0;32m---> 14\u001b[0;31m         \u001b[0maccs\u001b[0m \u001b[0;34m=\u001b[0m \u001b[0mrun\u001b[0m\u001b[0;34m.\u001b[0m\u001b[0mbest_cross_validation\u001b[0m\u001b[0;34m(\u001b[0m\u001b[0my_train_cat\u001b[0m\u001b[0;34m,\u001b[0m \u001b[0mxtr\u001b[0m\u001b[0;34m,\u001b[0m \u001b[0;36m5\u001b[0m\u001b[0;34m,\u001b[0m \u001b[0mf\u001b[0m\u001b[0;34m)\u001b[0m\u001b[0;34m\u001b[0m\u001b[0m\n\u001b[0m\u001b[1;32m     15\u001b[0m \u001b[0;34m\u001b[0m\u001b[0m\n\u001b[1;32m     16\u001b[0m         \u001b[0mcat_accs\u001b[0m\u001b[0;34m.\u001b[0m\u001b[0mappend\u001b[0m\u001b[0;34m(\u001b[0m\u001b[0maccs\u001b[0m\u001b[0;34m)\u001b[0m\u001b[0;34m\u001b[0m\u001b[0m\n",
      "\u001b[0;32m/home/vinz/Desktop/MachineLearning-Project1/run.py\u001b[0m in \u001b[0;36mbest_cross_validation\u001b[0;34m(y, x, k_fold, train_predict_f, seed)\u001b[0m\n\u001b[1;32m    127\u001b[0m \u001b[0;34m\u001b[0m\u001b[0m\n\u001b[1;32m    128\u001b[0m     \u001b[0;32mfor\u001b[0m \u001b[0mi\u001b[0m \u001b[0;32min\u001b[0m \u001b[0mrange\u001b[0m\u001b[0;34m(\u001b[0m\u001b[0mk_fold\u001b[0m\u001b[0;34m)\u001b[0m\u001b[0;34m:\u001b[0m\u001b[0;34m\u001b[0m\u001b[0m\n\u001b[0;32m--> 129\u001b[0;31m         \u001b[0mtmp_accuracy\u001b[0m \u001b[0;34m=\u001b[0m \u001b[0mcross_validation_step\u001b[0m\u001b[0;34m(\u001b[0m\u001b[0mi\u001b[0m\u001b[0;34m)\u001b[0m\u001b[0;34m\u001b[0m\u001b[0m\n\u001b[0m\u001b[1;32m    130\u001b[0m         \u001b[0maccuracy\u001b[0m\u001b[0;34m.\u001b[0m\u001b[0mappend\u001b[0m\u001b[0;34m(\u001b[0m\u001b[0mtmp_accuracy\u001b[0m\u001b[0;34m)\u001b[0m\u001b[0;34m\u001b[0m\u001b[0m\n\u001b[1;32m    131\u001b[0m         \u001b[0;31m#print('Executed step', i+1, '/', k_fold, 'of cross validation')\u001b[0m\u001b[0;34m\u001b[0m\u001b[0;34m\u001b[0m\u001b[0m\n",
      "\u001b[0;32m/home/vinz/Desktop/MachineLearning-Project1/run.py\u001b[0m in \u001b[0;36mcross_validation_step\u001b[0;34m(k)\u001b[0m\n\u001b[1;32m    116\u001b[0m \u001b[0;34m\u001b[0m\u001b[0m\n\u001b[1;32m    117\u001b[0m         \u001b[0;31m# Predict\u001b[0m\u001b[0;34m\u001b[0m\u001b[0;34m\u001b[0m\u001b[0m\n\u001b[0;32m--> 118\u001b[0;31m         \u001b[0mpredictions\u001b[0m \u001b[0;34m=\u001b[0m \u001b[0mtrain_predict_f\u001b[0m\u001b[0;34m(\u001b[0m\u001b[0mtrain_y\u001b[0m\u001b[0;34m,\u001b[0m \u001b[0mtrain_x\u001b[0m\u001b[0;34m,\u001b[0m \u001b[0mtest_x\u001b[0m\u001b[0;34m)\u001b[0m\u001b[0;34m\u001b[0m\u001b[0m\n\u001b[0m\u001b[1;32m    119\u001b[0m \u001b[0;34m\u001b[0m\u001b[0m\n\u001b[1;32m    120\u001b[0m         \u001b[0;31m# Compute and return accuracy\u001b[0m\u001b[0;34m\u001b[0m\u001b[0;34m\u001b[0m\u001b[0m\n",
      "\u001b[0;32m<ipython-input-133-467037fdb6cb>\u001b[0m in \u001b[0;36m<lambda>\u001b[0;34m(ytr, xtr, xte)\u001b[0m\n\u001b[1;32m     11\u001b[0m     \u001b[0;32mfor\u001b[0m \u001b[0md\u001b[0m \u001b[0;32min\u001b[0m \u001b[0mrange\u001b[0m\u001b[0;34m(\u001b[0m\u001b[0;36m1\u001b[0m\u001b[0;34m,\u001b[0m \u001b[0;36m10\u001b[0m\u001b[0;34m)\u001b[0m\u001b[0;34m:\u001b[0m\u001b[0;34m\u001b[0m\u001b[0m\n\u001b[1;32m     12\u001b[0m         \u001b[0mls\u001b[0m \u001b[0;34m=\u001b[0m \u001b[0mLeastSquares\u001b[0m\u001b[0;34m(\u001b[0m\u001b[0mdegree\u001b[0m\u001b[0;34m=\u001b[0m\u001b[0md\u001b[0m\u001b[0;34m,\u001b[0m \u001b[0msolver\u001b[0m\u001b[0;34m=\u001b[0m\u001b[0;34m'pseudo'\u001b[0m\u001b[0;34m)\u001b[0m\u001b[0;34m\u001b[0m\u001b[0m\n\u001b[0;32m---> 13\u001b[0;31m         \u001b[0mf\u001b[0m \u001b[0;34m=\u001b[0m \u001b[0;32mlambda\u001b[0m \u001b[0mytr\u001b[0m\u001b[0;34m,\u001b[0m \u001b[0mxtr\u001b[0m\u001b[0;34m,\u001b[0m \u001b[0mxte\u001b[0m\u001b[0;34m:\u001b[0m \u001b[0mls\u001b[0m\u001b[0;34m.\u001b[0m\u001b[0mtrain\u001b[0m\u001b[0;34m(\u001b[0m\u001b[0mytr\u001b[0m\u001b[0;34m,\u001b[0m \u001b[0mxtr\u001b[0m\u001b[0;34m)\u001b[0m\u001b[0;34m.\u001b[0m\u001b[0mpredict_labels\u001b[0m\u001b[0;34m(\u001b[0m\u001b[0mxte\u001b[0m\u001b[0;34m)\u001b[0m\u001b[0;34m\u001b[0m\u001b[0m\n\u001b[0m\u001b[1;32m     14\u001b[0m         \u001b[0maccs\u001b[0m \u001b[0;34m=\u001b[0m \u001b[0mrun\u001b[0m\u001b[0;34m.\u001b[0m\u001b[0mbest_cross_validation\u001b[0m\u001b[0;34m(\u001b[0m\u001b[0my_train_cat\u001b[0m\u001b[0;34m,\u001b[0m \u001b[0mxtr\u001b[0m\u001b[0;34m,\u001b[0m \u001b[0;36m5\u001b[0m\u001b[0;34m,\u001b[0m \u001b[0mf\u001b[0m\u001b[0;34m)\u001b[0m\u001b[0;34m\u001b[0m\u001b[0m\n\u001b[1;32m     15\u001b[0m \u001b[0;34m\u001b[0m\u001b[0m\n",
      "\u001b[0;32m/home/vinz/Desktop/MachineLearning-Project1/least_squares.py\u001b[0m in \u001b[0;36mpredict_labels\u001b[0;34m(self, x_test)\u001b[0m\n\u001b[1;32m     49\u001b[0m     \u001b[0;32mdef\u001b[0m \u001b[0mpredict_labels\u001b[0m\u001b[0;34m(\u001b[0m\u001b[0mself\u001b[0m\u001b[0;34m,\u001b[0m \u001b[0mx_test\u001b[0m\u001b[0;34m)\u001b[0m\u001b[0;34m:\u001b[0m\u001b[0;34m\u001b[0m\u001b[0m\n\u001b[1;32m     50\u001b[0m         \u001b[0;34m\"\"\"Generates labels (-1, 1) for classification\"\"\"\u001b[0m\u001b[0;34m\u001b[0m\u001b[0m\n\u001b[0;32m---> 51\u001b[0;31m         \u001b[0mraw_labels\u001b[0m \u001b[0;34m=\u001b[0m \u001b[0mself\u001b[0m\u001b[0;34m.\u001b[0m\u001b[0mpredict\u001b[0m\u001b[0;34m(\u001b[0m\u001b[0mx_test\u001b[0m\u001b[0;34m)\u001b[0m\u001b[0;34m\u001b[0m\u001b[0m\n\u001b[0m\u001b[1;32m     52\u001b[0m         \u001b[0mraw_labels\u001b[0m\u001b[0;34m[\u001b[0m\u001b[0mraw_labels\u001b[0m \u001b[0;34m>\u001b[0m \u001b[0;36m0\u001b[0m\u001b[0;34m]\u001b[0m \u001b[0;34m=\u001b[0m \u001b[0;36m1\u001b[0m\u001b[0;34m\u001b[0m\u001b[0m\n\u001b[1;32m     53\u001b[0m         \u001b[0mraw_labels\u001b[0m\u001b[0;34m[\u001b[0m\u001b[0mraw_labels\u001b[0m \u001b[0;34m<=\u001b[0m \u001b[0;36m0\u001b[0m\u001b[0;34m]\u001b[0m \u001b[0;34m=\u001b[0m \u001b[0;34m-\u001b[0m\u001b[0;36m1\u001b[0m\u001b[0;34m\u001b[0m\u001b[0m\n",
      "\u001b[0;32m/home/vinz/Desktop/MachineLearning-Project1/least_squares.py\u001b[0m in \u001b[0;36mpredict\u001b[0;34m(self, x_test)\u001b[0m\n\u001b[1;32m     44\u001b[0m     \u001b[0;32mdef\u001b[0m \u001b[0mpredict\u001b[0m\u001b[0;34m(\u001b[0m\u001b[0mself\u001b[0m\u001b[0;34m,\u001b[0m \u001b[0mx_test\u001b[0m\u001b[0;34m)\u001b[0m\u001b[0;34m:\u001b[0m\u001b[0;34m\u001b[0m\u001b[0m\n\u001b[1;32m     45\u001b[0m         \u001b[0;34m\"\"\"Predicts y values for the provided test data\"\"\"\u001b[0m\u001b[0;34m\u001b[0m\u001b[0m\n\u001b[0;32m---> 46\u001b[0;31m         \u001b[0mready\u001b[0m \u001b[0;34m=\u001b[0m \u001b[0mpolynomial_enhancement\u001b[0m\u001b[0;34m(\u001b[0m\u001b[0mx_test\u001b[0m\u001b[0;34m,\u001b[0m \u001b[0mself\u001b[0m\u001b[0;34m.\u001b[0m\u001b[0mdegree\u001b[0m\u001b[0;34m)\u001b[0m\u001b[0;34m\u001b[0m\u001b[0m\n\u001b[0m\u001b[1;32m     47\u001b[0m         \u001b[0;32mreturn\u001b[0m \u001b[0mready\u001b[0m \u001b[0;34m@\u001b[0m \u001b[0mself\u001b[0m\u001b[0;34m.\u001b[0m\u001b[0mmodel\u001b[0m\u001b[0;34m\u001b[0m\u001b[0m\n\u001b[1;32m     48\u001b[0m \u001b[0;34m\u001b[0m\u001b[0m\n",
      "\u001b[0;32m/home/vinz/Desktop/MachineLearning-Project1/preprocessing.py\u001b[0m in \u001b[0;36mpolynomial_enhancement\u001b[0;34m(x, deg)\u001b[0m\n\u001b[1;32m      8\u001b[0m     \u001b[0mstacked_x\u001b[0m \u001b[0;34m=\u001b[0m \u001b[0mnp\u001b[0m\u001b[0;34m.\u001b[0m\u001b[0mtile\u001b[0m\u001b[0;34m(\u001b[0m\u001b[0mx\u001b[0m\u001b[0;34m,\u001b[0m \u001b[0mdeg\u001b[0m\u001b[0;34m)\u001b[0m\u001b[0;34m\u001b[0m\u001b[0m\n\u001b[1;32m      9\u001b[0m     \u001b[0mpower_vec\u001b[0m \u001b[0;34m=\u001b[0m \u001b[0mnp\u001b[0m\u001b[0;34m.\u001b[0m\u001b[0mrepeat\u001b[0m\u001b[0;34m(\u001b[0m\u001b[0mnp\u001b[0m\u001b[0;34m.\u001b[0m\u001b[0marray\u001b[0m\u001b[0;34m(\u001b[0m\u001b[0mrange\u001b[0m\u001b[0;34m(\u001b[0m\u001b[0;36m1\u001b[0m\u001b[0;34m,\u001b[0m \u001b[0mdeg\u001b[0m \u001b[0;34m+\u001b[0m \u001b[0;36m1\u001b[0m\u001b[0;34m)\u001b[0m\u001b[0;34m)\u001b[0m\u001b[0;34m,\u001b[0m \u001b[0mx\u001b[0m\u001b[0;34m.\u001b[0m\u001b[0mshape\u001b[0m\u001b[0;34m[\u001b[0m\u001b[0;36m1\u001b[0m\u001b[0;34m]\u001b[0m\u001b[0;34m)\u001b[0m\u001b[0;34m\u001b[0m\u001b[0m\n\u001b[0;32m---> 10\u001b[0;31m     \u001b[0;32mreturn\u001b[0m \u001b[0mnp\u001b[0m\u001b[0;34m.\u001b[0m\u001b[0mhstack\u001b[0m\u001b[0;34m(\u001b[0m\u001b[0;34m(\u001b[0m\u001b[0mnp\u001b[0m\u001b[0;34m.\u001b[0m\u001b[0mones\u001b[0m\u001b[0;34m(\u001b[0m\u001b[0;34m(\u001b[0m\u001b[0mstacked_x\u001b[0m\u001b[0;34m.\u001b[0m\u001b[0mshape\u001b[0m\u001b[0;34m[\u001b[0m\u001b[0;36m0\u001b[0m\u001b[0;34m]\u001b[0m\u001b[0;34m,\u001b[0m \u001b[0;36m1\u001b[0m\u001b[0;34m)\u001b[0m\u001b[0;34m)\u001b[0m\u001b[0;34m,\u001b[0m \u001b[0mstacked_x\u001b[0m \u001b[0;34m**\u001b[0m \u001b[0mpower_vec\u001b[0m\u001b[0;34m)\u001b[0m\u001b[0;34m)\u001b[0m\u001b[0;34m\u001b[0m\u001b[0m\n\u001b[0m\u001b[1;32m     11\u001b[0m \u001b[0;34m\u001b[0m\u001b[0m\n\u001b[1;32m     12\u001b[0m \u001b[0;34m\u001b[0m\u001b[0m\n",
      "\u001b[0;31mKeyboardInterrupt\u001b[0m: "
     ]
    }
   ],
   "source": [
    "cat = 0\n",
    "data = []\n",
    "\n",
    "for cat_data in run.category_iter(y_train, x_train, cat_col=22):\n",
    "    \n",
    "    y_train_cat, x_train_cat = cat_data\n",
    "    xtr = preprocessing.preprocess(x_train_cat)\n",
    "    \n",
    "    cat_accs = []\n",
    "    \n",
    "    for d in range(1, 13):\n",
    "        ls = LeastSquares(degree=d, solver='pseudo')\n",
    "        f = lambda ytr, xtr, xte: ls.train(ytr, xtr).predict_labels(xte)\n",
    "        accs = run.best_cross_validation(y_train_cat, xtr, 5, f)\n",
    "        \n",
    "        cat_accs.append(accs)\n",
    "        print('tested degree', d, 'on cat', cat)\n",
    "        \n",
    "    data.append(cat_accs)\n",
    "    cat += 1\n",
    "    \n",
    "notify()"
   ]
  },
  {
   "cell_type": "code",
   "execution_count": null,
   "metadata": {},
   "outputs": [],
   "source": [
    "degree = np.arange(1, 13)\n",
    "degree = np.reshape(degree, (len(degree), 1))\n",
    "\n",
    "for idx, cat_accs in enumerate(data):   \n",
    "    vals = np.hstack([degree, np.array(cat_accs)])\n",
    "    np.savetxt('leastsquares_cat' + str(idx) + '_degree.csv', vals, delimiter=',', header='d, f1, f2, f3, f4, f5')"
   ]
  },
  {
   "cell_type": "code",
   "execution_count": 130,
   "metadata": {
    "scrolled": true
   },
   "outputs": [
    {
     "data": {
      "text/plain": [
       "[<matplotlib.text.Text at 0x7ffaa93cd7b8>,\n",
       " <matplotlib.text.Text at 0x7ffaa94036d8>,\n",
       " <matplotlib.text.Text at 0x7ffaa9625a58>,\n",
       " <matplotlib.text.Text at 0x7ffaa95ae7f0>,\n",
       " <matplotlib.text.Text at 0x7ffaa95aebe0>,\n",
       " <matplotlib.text.Text at 0x7ffaa95b7780>,\n",
       " <matplotlib.text.Text at 0x7ffaa95be2b0>,\n",
       " <matplotlib.text.Text at 0x7ffaa95be550>]"
      ]
     },
     "execution_count": 130,
     "metadata": {},
     "output_type": "execute_result"
    },
    {
     "data": {
      "image/png": "[encoded data removed]",
      "text/plain": [
       "<matplotlib.figure.Figure at 0x7ffaa94cd278>"
      ]
     },
     "metadata": {},
     "output_type": "display_data"
    }
   ],
   "source": [
    "fig, ax = plt.subplots(figsize=(15,15))\n",
    "x = np.arange(1, 49)\n",
    "stds = [np.std(accs) for accs in cat for cat in data]\n",
    "means = [np.mean(accs) for accs in cat for cat in data]\n",
    "\n",
    "ax.bar(x[:13], means[:13], color='cornflowerblue', width=0.8)\n",
    "ax.bar(x[13:25]+1, means[13:25], color='mediumseagreen', width=0.8)\n",
    "ax.bar(x[25:37]+2, means[25:37], color='burlywood', width=0.8)\n",
    "ax.bar(x[37:49]+3, means[37:49], color='lightsalmon', width=0.8)\n",
    "ax.set_ybound((0.4, 0.9))\n",
    "ax.set_xticklabels([i for j in range(4) for i in range(1,13)])\n"
   ]
  },
  {
   "cell_type": "markdown",
   "metadata": {},
   "source": [
    "## Logistic categories"
   ]
  },
  {
   "cell_type": "code",
   "execution_count": 134,
   "metadata": {},
   "outputs": [
    {
     "name": "stdout",
     "output_type": "stream",
     "text": [
      "tested degree 1 on cat 0\n",
      "tested degree 2 on cat 0\n",
      "tested degree 3 on cat 0\n",
      "tested degree 4 on cat 0\n",
      "tested degree 5 on cat 0\n",
      "tested degree 6 on cat 0\n",
      "tested degree 7 on cat 0\n",
      "tested degree 8 on cat 0\n",
      "tested degree 9 on cat 0\n",
      "tested degree 1 on cat 1\n",
      "tested degree 2 on cat 1\n",
      "tested degree 3 on cat 1\n",
      "tested degree 4 on cat 1\n",
      "tested degree 5 on cat 1\n",
      "tested degree 6 on cat 1\n",
      "tested degree 7 on cat 1\n",
      "tested degree 8 on cat 1\n",
      "tested degree 9 on cat 1\n",
      "tested degree 1 on cat 2\n",
      "tested degree 2 on cat 2\n",
      "tested degree 3 on cat 2\n",
      "tested degree 4 on cat 2\n",
      "tested degree 5 on cat 2\n",
      "tested degree 6 on cat 2\n",
      "tested degree 7 on cat 2\n",
      "tested degree 8 on cat 2\n",
      "tested degree 9 on cat 2\n",
      "tested degree 1 on cat 3\n",
      "tested degree 2 on cat 3\n",
      "tested degree 3 on cat 3\n",
      "tested degree 4 on cat 3\n",
      "tested degree 5 on cat 3\n",
      "tested degree 6 on cat 3\n",
      "tested degree 7 on cat 3\n",
      "tested degree 8 on cat 3\n",
      "tested degree 9 on cat 3\n"
     ]
    }
   ],
   "source": [
    "cat = 0\n",
    "data = []\n",
    "\n",
    "for cat_data in run.category_iter(y_train_logi, x_train, cat_col=22):\n",
    "    \n",
    "    y_train_cat, x_train_cat = cat_data\n",
    "    xtr = preprocessing.preprocess(x_train_cat)\n",
    "    \n",
    "    cat_accs = []\n",
    "    \n",
    "    for d in range(1, 10):\n",
    "        lr = LogisticRegression(degree=d, solver='newton', gamma=0.1)\n",
    "        f = lambda ytr, xtr, xte: lr.train(ytr, xtr).predict_labels(xte)\n",
    "        accs = run.best_cross_validation(y_train_cat, xtr, 5, f)\n",
    "        \n",
    "        cat_accs.append(accs)\n",
    "        print('tested degree', d, 'on cat', cat)\n",
    "        \n",
    "    data.append(cat_accs)\n",
    "    cat += 1\n",
    "    \n",
    "notify()"
   ]
  },
  {
   "cell_type": "code",
   "execution_count": 135,
   "metadata": {
    "collapsed": true
   },
   "outputs": [],
   "source": [
    "degree = np.arange(1, 10)\n",
    "degree = np.reshape(degree, (len(degree), 1))\n",
    "\n",
    "for idx, cat_accs in enumerate(data):   \n",
    "    vals = np.hstack([degree, np.array(cat_accs)])\n",
    "    np.savetxt('logistic_cat' + str(idx) + '_degree.csv', vals, delimiter=',', header='d, f1, f2, f3, f4, f5')"
   ]
  },
  {
   "cell_type": "markdown",
   "metadata": {},
   "source": [
    "### Basic least squares"
   ]
  },
  {
   "cell_type": "code",
   "execution_count": 9,
   "metadata": {
    "scrolled": true
   },
   "outputs": [
    {
     "name": "stdout",
     "output_type": "stream",
     "text": [
      "Step 1 / 5\n",
      "0.74328\n",
      "Step 2 / 5\n",
      "0.742\n",
      "Step 3 / 5\n",
      "0.74784\n",
      "Step 4 / 5\n",
      "0.74468\n",
      "Step 5 / 5\n",
      "0.74414\n"
     ]
    }
   ],
   "source": [
    "basic_least_squares = LeastSquares()\n",
    "\n",
    "accuracy = cv.cross_validation(y_train, x_train_preprocessed, 5, basic_least_squares)"
   ]
  },
  {
   "cell_type": "code",
   "execution_count": 10,
   "metadata": {
    "scrolled": true
   },
   "outputs": [
    {
     "name": "stdout",
     "output_type": "stream",
     "text": [
      "Accuracies [0.74328000000000005, 0.74199999999999999, 0.74783999999999995, 0.74468000000000001, 0.74414000000000002]\n",
      "Mean: 0.744388\n",
      "Variance: 0.00194901410975\n"
     ]
    }
   ],
   "source": [
    "display_result_basic(accuracy)"
   ]
  },
  {
   "cell_type": "markdown",
   "metadata": {},
   "source": [
    "### Least squares degree 8"
   ]
  },
  {
   "cell_type": "code",
   "execution_count": 13,
   "metadata": {
    "scrolled": true
   },
   "outputs": [
    {
     "name": "stdout",
     "output_type": "stream",
     "text": [
      "Step 1 / 5\n",
      "0.80714\n",
      "Step 2 / 5\n",
      "0.8048\n",
      "Step 3 / 5\n",
      "0.8121\n",
      "Step 4 / 5\n",
      "0.80578\n",
      "Step 5 / 5\n",
      "0.80692\n"
     ]
    }
   ],
   "source": [
    "least_squares_deg_8 = LeastSquares(degree=8)\n",
    "\n",
    "accuracy = cv.cross_validation(y_train, x_train_preprocessed, 5, least_squares_deg_8)"
   ]
  },
  {
   "cell_type": "code",
   "execution_count": 14,
   "metadata": {},
   "outputs": [
    {
     "name": "stdout",
     "output_type": "stream",
     "text": [
      "Accuracies [0.80713999999999997, 0.80479999999999996, 0.81210000000000004, 0.80578000000000005, 0.80691999999999997]\n",
      "Mean: 0.807348\n",
      "Variance: 0.00252027300109\n"
     ]
    }
   ],
   "source": [
    "display_result_basic(accuracy)"
   ]
  },
  {
   "cell_type": "markdown",
   "metadata": {},
   "source": [
    "### Logistic degree 4"
   ]
  },
  {
   "cell_type": "code",
   "execution_count": 43,
   "metadata": {},
   "outputs": [
    {
     "name": "stdout",
     "output_type": "stream",
     "text": [
      "Step 1 / 5\n",
      "0.81762\n",
      "Step 2 / 5\n",
      "0.81664\n",
      "Step 3 / 5\n",
      "0.81512\n",
      "Step 4 / 5\n",
      "0.81618\n",
      "Step 5 / 5\n",
      "0.81604\n"
     ]
    }
   ],
   "source": [
    "logistic_deg_4 = LogisticRegression(degree=4, gamma=0.1)\n",
    "\n",
    "accuracy = cv.cross_validation(y_train_logi, x_train_preprocessed, 5, logistic_deg_4)"
   ]
  },
  {
   "cell_type": "code",
   "execution_count": 44,
   "metadata": {},
   "outputs": [
    {
     "name": "stdout",
     "output_type": "stream",
     "text": [
      "Accuracies [0.81762000000000001, 0.81664000000000003, 0.81511999999999996, 0.81618000000000002, 0.81603999999999999]\n",
      "Mean: 0.81632\n",
      "Variance: 0.00081613724336\n"
     ]
    }
   ],
   "source": [
    "display_result_basic(accuracy)"
   ]
  },
  {
   "cell_type": "markdown",
   "metadata": {},
   "source": [
    "### Least squares cat"
   ]
  },
  {
   "cell_type": "code",
   "execution_count": 45,
   "metadata": {
    "scrolled": true
   },
   "outputs": [
    {
     "name": "stdout",
     "output_type": "stream",
     "text": [
      "Step 1 / 5\n",
      "0.837503753378\n",
      "Step 2 / 5\n",
      "0.835251726554\n",
      "Step 3 / 5\n",
      "0.839955960364\n",
      "Step 4 / 5\n",
      "0.843809428486\n",
      "Step 5 / 5\n",
      "0.847212491242\n",
      "Step 1 / 5\n",
      "0.800683518184\n",
      "Step 2 / 5\n",
      "0.803585246324\n",
      "Step 3 / 5\n",
      "0.806229043075\n",
      "Step 4 / 5\n",
      "0.801973175135\n",
      "Step 5 / 5\n",
      "0.804681454733\n",
      "Step 1 / 5\n",
      "0.830669975186\n",
      "Step 2 / 5\n",
      "0.825012406948\n",
      "Step 3 / 5\n",
      "0.837419354839\n",
      "Step 4 / 5\n",
      "0.836129032258\n",
      "Step 5 / 5\n",
      "0.826302729529\n",
      "Step 1 / 5\n",
      "0.82536101083\n",
      "Step 2 / 5\n",
      "0.835288808664\n",
      "Step 3 / 5\n",
      "0.820397111913\n",
      "Step 4 / 5\n",
      "0.816110108303\n",
      "Step 5 / 5\n",
      "0.830099277978\n"
     ]
    }
   ],
   "source": [
    "least_squares_0 = LeastSquares(degree=7)\n",
    "least_squares_1 = LeastSquares(degree=12)\n",
    "least_squares_2 = LeastSquares(degree=11)\n",
    "least_squares_3 = LeastSquares(degree=11)\n",
    "\n",
    "models = [least_squares_0, least_squares_1, least_squares_2, least_squares_3]\n",
    "\n",
    "accuracies, variances = cat_cross_validation(models, y_train, x_train)"
   ]
  },
  {
   "cell_type": "code",
   "execution_count": 46,
   "metadata": {},
   "outputs": [
    {
     "name": "stdout",
     "output_type": "stream",
     "text": [
      "Accuracy per cat: [0.84074667200480424, 0.80343048749032753, 0.83110669975186102, 0.8254512635379061]\n",
      "Variances per cat: [0.0043017082024964801, 0.0019539898856351166, 0.0050096447195751691, 0.0067998692291048801]\n",
      "Total mean: 0.825183780696\n"
     ]
    }
   ],
   "source": [
    "print_result(accuracies)"
   ]
  },
  {
   "cell_type": "markdown",
   "metadata": {},
   "source": [
    "### Logistic cat "
   ]
  },
  {
   "cell_type": "code",
   "execution_count": 47,
   "metadata": {
    "scrolled": true
   },
   "outputs": [
    {
     "name": "stdout",
     "output_type": "stream",
     "text": [
      "Step 1 / 5\n",
      "0.838955059554\n",
      "Step 2 / 5\n",
      "0.836002402162\n",
      "Step 3 / 5\n",
      "0.838154338905\n",
      "Step 4 / 5\n",
      "0.842207987188\n",
      "Step 5 / 5\n",
      "0.847112401161\n",
      "Step 1 / 5\n",
      "0.801134898117\n",
      "Step 2 / 5\n",
      "0.803004900696\n",
      "Step 3 / 5\n",
      "0.804359040495\n",
      "Step 4 / 5\n",
      "0.803649729172\n",
      "Step 5 / 5\n",
      "0.803907660562\n",
      "Step 1 / 5\n",
      "0.832853598015\n",
      "Step 2 / 5\n",
      "0.828089330025\n",
      "Step 3 / 5\n",
      "0.839602977667\n",
      "Step 4 / 5\n",
      "0.837717121588\n",
      "Step 5 / 5\n",
      "0.827791563275\n",
      "Step 1 / 5\n",
      "0.824007220217\n",
      "Step 2 / 5\n",
      "0.840703971119\n",
      "Step 3 / 5\n",
      "0.827842960289\n",
      "Step 4 / 5\n",
      "0.825135379061\n",
      "Step 5 / 5\n",
      "0.834837545126\n"
     ]
    }
   ],
   "source": [
    "logistic_regression_0 = LogisticRegression(degree=3, gamma=0.1)\n",
    "logistic_regression_1 = LogisticRegression(degree=6, gamma=0.1)\n",
    "logistic_regression_2 = LogisticRegression(degree=6, gamma=0.1)\n",
    "logistic_regression_3 = LogisticRegression(degree=6, gamma=0.1)\n",
    "\n",
    "models = [logistic_regression_0, logistic_regression_1, logistic_regression_2, logistic_regression_3]\n",
    "\n",
    "accuracies, variances = cat_cross_validation(models, y_train_logi, x_train)"
   ]
  },
  {
   "cell_type": "code",
   "execution_count": 48,
   "metadata": {},
   "outputs": [
    {
     "name": "stdout",
     "output_type": "stream",
     "text": [
      "Accuracy per cat: [0.84048643779401466, 0.8032112458086148, 0.83321091811414405, 0.83050541516245491]\n",
      "Variances per cat: [0.0038667170300329726, 0.0011268089326181561, 0.0048351224216169426, 0.006339248928082933]\n",
      "Total mean: 0.82685350422\n"
     ]
    }
   ],
   "source": [
    "print_result(accuracies)"
   ]
  }
 ],
 "metadata": {
  "kernelspec": {
   "display_name": "Python 3",
   "language": "python",
   "name": "python3"
  },
  "language_info": {
   "codemirror_mode": {
    "name": "ipython",
    "version": 3
   },
   "file_extension": ".py",
   "mimetype": "text/x-python",
   "name": "python",
   "nbconvert_exporter": "python",
   "pygments_lexer": "ipython3",
   "version": "3.6.1"
  }
 },
 "nbformat": 4,
 "nbformat_minor": 2
}
