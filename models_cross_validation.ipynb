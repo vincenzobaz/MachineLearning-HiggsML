{
 "cells": [
  {
   "cell_type": "code",
   "execution_count": 1,
   "metadata": {
    "collapsed": true
   },
   "outputs": [],
   "source": [
    "import scripts.proj1_helpers as helper\n",
    "\n",
    "import numpy as np\n",
    "import pandas as pd\n",
    "import matplotlib.pyplot as plt\n",
    "import time\n",
    "\n",
    "#import implementations as imp\n",
    "import cross_validation as cv\n",
    "#from preprocessor import Preprocessor\n",
    "from model_ensembler import ModelEnsembler\n",
    "import preprocessing\n",
    "\n",
    "import run\n",
    "from least_squares import LeastSquares\n",
    "from logistic import LogisticRegression\n",
    "%matplotlib inline\n",
    "%load_ext autoreload\n",
    "%autoreload 2"
   ]
  },
  {
   "cell_type": "markdown",
   "metadata": {},
   "source": [
    "## Import data"
   ]
  },
  {
   "cell_type": "code",
   "execution_count": 3,
   "metadata": {},
   "outputs": [],
   "source": [
    "y_train, x_train, ids_train = helper.load_csv_data('train.csv')\n",
    "y_test, x_test, ids_test = helper.load_csv_data('test.csv')\n",
    "y_train_logi = y_train.copy()\n",
    "y_train_logi[y_train_logi < 0] = 0\n",
    "x_train_preprocessed = preprocessing.preprocess(x_train)"
   ]
  },
  {
   "cell_type": "markdown",
   "metadata": {},
   "source": [
    "## Models"
   ]
  },
  {
   "cell_type": "code",
   "execution_count": 29,
   "metadata": {
    "collapsed": true
   },
   "outputs": [],
   "source": [
    "def get_mean_and_variance(accuracies):\n",
    "    mean = sum(accuracies) / len(accuracies)\n",
    "    variances = np.std(np.array(accuracies))\n",
    "    return mean, variances"
   ]
  },
  {
   "cell_type": "code",
   "execution_count": 33,
   "metadata": {
    "collapsed": true
   },
   "outputs": [],
   "source": [
    "def display_result_basic(accuracy):\n",
    "    mean, variance = get_mean_and_variance(accuracy)\n",
    "    print('Accuracies', accuracy)\n",
    "    print('Mean:', mean)\n",
    "    print('Variance:', variance)"
   ]
  },
  {
   "cell_type": "code",
   "execution_count": 23,
   "metadata": {},
   "outputs": [],
   "source": [
    "def print_result(accuracy):\n",
    "    print('Accuracy per cat:', list(map(lambda list_: sum(list_) / len(list_), accuracy)))\n",
    "    variances = list(map(lambda list_: np.std(np.array(list_)), accuracy))\n",
    "    print('Variances per cat:', variances)\n",
    "    accuracies = np.ravel(np.array(accuracy))\n",
    "    print('Total mean:', np.sum(accuracies) / accuracies.size)\n",
    "    "
   ]
  },
  {
   "cell_type": "code",
   "execution_count": 24,
   "metadata": {
    "collapsed": true
   },
   "outputs": [],
   "source": [
    "def cat_cross_validation(models, y_train, x_train):\n",
    "    accuracies = []\n",
    "    variances = []\n",
    "    i=0\n",
    "\n",
    "    for cat_data in run.category_iter(y_train, x_train, 22, x_test):\n",
    "        y_train_cat, x_train_cat, x_test_cat, cat_indicies_te = cat_data\n",
    "        x_train_cat, x_test_cat = preprocessing.preprocess(x_train_cat, x_test_cat)\n",
    "        #print('Cat number:', i, 'with:', y_train_cat.size, 'elements')\n",
    "\n",
    "        accuracy = np.array(cv.cross_validation(y_train_cat, x_train_cat, 5, models[i]))\n",
    "\n",
    "        accuracies.append(accuracy)\n",
    "        variances.append(np.std(np.array(accuracies[i])))\n",
    "        #print('Variance:', variances[i])\n",
    "        i = i + 1\n",
    "        #print('')\n",
    "    \n",
    "    return accuracies, variances"
   ]
  },
  {
   "cell_type": "markdown",
   "metadata": {},
   "source": [
    "### Basic least squares"
   ]
  },
  {
   "cell_type": "code",
   "execution_count": 36,
   "metadata": {
    "scrolled": true
   },
   "outputs": [
    {
     "name": "stdout",
     "output_type": "stream",
     "text": [
      "Step 1 / 5\n",
      "0.74328\n",
      "Step 2 / 5\n",
      "0.742\n",
      "Step 3 / 5\n",
      "0.74784\n",
      "Step 4 / 5\n",
      "0.74468\n",
      "Step 5 / 5\n",
      "0.74414\n"
     ]
    }
   ],
   "source": [
    "basic_least_squares = LeastSquares()\n",
    "\n",
    "accuracy = cv.cross_validation(y_train, x_train_preprocessed, 5, basic_least_squares)"
   ]
  },
  {
   "cell_type": "code",
   "execution_count": 37,
   "metadata": {
    "scrolled": true
   },
   "outputs": [
    {
     "name": "stdout",
     "output_type": "stream",
     "text": [
      "Accuracies [0.74328000000000005, 0.74199999999999999, 0.74783999999999995, 0.74468000000000001, 0.74414000000000002]\n",
      "Mean: 0.744388\n",
      "Variance: 0.00194901410975\n"
     ]
    }
   ],
   "source": [
    "display_result_basic(accuracy)"
   ]
  },
  {
   "cell_type": "markdown",
   "metadata": {},
   "source": [
    "### Least squares degree 8"
   ]
  },
  {
   "cell_type": "code",
   "execution_count": 41,
   "metadata": {
    "scrolled": true
   },
   "outputs": [
    {
     "name": "stdout",
     "output_type": "stream",
     "text": [
      "Step 1 / 5\n",
      "0.80738\n",
      "Step 2 / 5\n",
      "0.806\n",
      "Step 3 / 5\n",
      "0.8121\n",
      "Step 4 / 5\n",
      "0.80544\n",
      "Step 5 / 5\n",
      "0.80742\n"
     ]
    }
   ],
   "source": [
    "least_squares_deg_8 = LeastSquares(degree=8)\n",
    "\n",
    "accuracy = cv.cross_validation(y_train, x_train_preprocessed, 5, least_squares_deg_8)"
   ]
  },
  {
   "cell_type": "code",
   "execution_count": 42,
   "metadata": {},
   "outputs": [
    {
     "name": "stdout",
     "output_type": "stream",
     "text": [
      "Accuracies [0.80737999999999999, 0.80600000000000005, 0.81210000000000004, 0.80544000000000004, 0.80742000000000003]\n",
      "Mean: 0.807668\n",
      "Variance: 0.00234662651481\n"
     ]
    }
   ],
   "source": [
    "display_result_basic(accuracy)"
   ]
  },
  {
   "cell_type": "markdown",
   "metadata": {},
   "source": [
    "### Logistic degree 4"
   ]
  },
  {
   "cell_type": "code",
   "execution_count": 43,
   "metadata": {},
   "outputs": [
    {
     "name": "stdout",
     "output_type": "stream",
     "text": [
      "Step 1 / 5\n",
      "0.81762\n",
      "Step 2 / 5\n",
      "0.81664\n",
      "Step 3 / 5\n",
      "0.81512\n",
      "Step 4 / 5\n",
      "0.81618\n",
      "Step 5 / 5\n",
      "0.81604\n"
     ]
    }
   ],
   "source": [
    "logistic_deg_4 = LogisticRegression(degree=4, gamma=0.1)\n",
    "\n",
    "accuracy = cv.cross_validation(y_train_logi, x_train_preprocessed, 5, logistic_deg_4)"
   ]
  },
  {
   "cell_type": "code",
   "execution_count": 44,
   "metadata": {},
   "outputs": [
    {
     "name": "stdout",
     "output_type": "stream",
     "text": [
      "Accuracies [0.81762000000000001, 0.81664000000000003, 0.81511999999999996, 0.81618000000000002, 0.81603999999999999]\n",
      "Mean: 0.81632\n",
      "Variance: 0.00081613724336\n"
     ]
    }
   ],
   "source": [
    "display_result_basic(accuracy)"
   ]
  },
  {
   "cell_type": "markdown",
   "metadata": {},
   "source": [
    "### Least squares cat"
   ]
  },
  {
   "cell_type": "code",
   "execution_count": 45,
   "metadata": {
    "scrolled": true
   },
   "outputs": [
    {
     "name": "stdout",
     "output_type": "stream",
     "text": [
      "Step 1 / 5\n",
      "0.837503753378\n",
      "Step 2 / 5\n",
      "0.835251726554\n",
      "Step 3 / 5\n",
      "0.839955960364\n",
      "Step 4 / 5\n",
      "0.843809428486\n",
      "Step 5 / 5\n",
      "0.847212491242\n",
      "Step 1 / 5\n",
      "0.800683518184\n",
      "Step 2 / 5\n",
      "0.803585246324\n",
      "Step 3 / 5\n",
      "0.806229043075\n",
      "Step 4 / 5\n",
      "0.801973175135\n",
      "Step 5 / 5\n",
      "0.804681454733\n",
      "Step 1 / 5\n",
      "0.830669975186\n",
      "Step 2 / 5\n",
      "0.825012406948\n",
      "Step 3 / 5\n",
      "0.837419354839\n",
      "Step 4 / 5\n",
      "0.836129032258\n",
      "Step 5 / 5\n",
      "0.826302729529\n",
      "Step 1 / 5\n",
      "0.82536101083\n",
      "Step 2 / 5\n",
      "0.835288808664\n",
      "Step 3 / 5\n",
      "0.820397111913\n",
      "Step 4 / 5\n",
      "0.816110108303\n",
      "Step 5 / 5\n",
      "0.830099277978\n"
     ]
    }
   ],
   "source": [
    "least_squares_0 = LeastSquares(degree=7)\n",
    "least_squares_1 = LeastSquares(degree=12)\n",
    "least_squares_2 = LeastSquares(degree=11)\n",
    "least_squares_3 = LeastSquares(degree=11)\n",
    "\n",
    "models = [least_squares_0, least_squares_1, least_squares_2, least_squares_3]\n",
    "\n",
    "accuracies, variances = cat_cross_validation(models, y_train, x_train)"
   ]
  },
  {
   "cell_type": "code",
   "execution_count": 46,
   "metadata": {},
   "outputs": [
    {
     "name": "stdout",
     "output_type": "stream",
     "text": [
      "Accuracy per cat: [0.84074667200480424, 0.80343048749032753, 0.83110669975186102, 0.8254512635379061]\n",
      "Variances per cat: [0.0043017082024964801, 0.0019539898856351166, 0.0050096447195751691, 0.0067998692291048801]\n",
      "Total mean: 0.825183780696\n"
     ]
    }
   ],
   "source": [
    "print_result(accuracies)"
   ]
  },
  {
   "cell_type": "markdown",
   "metadata": {},
   "source": [
    "### Logistic cat "
   ]
  },
  {
   "cell_type": "code",
   "execution_count": 47,
   "metadata": {
    "scrolled": true
   },
   "outputs": [
    {
     "name": "stdout",
     "output_type": "stream",
     "text": [
      "Step 1 / 5\n",
      "0.838955059554\n",
      "Step 2 / 5\n",
      "0.836002402162\n",
      "Step 3 / 5\n",
      "0.838154338905\n",
      "Step 4 / 5\n",
      "0.842207987188\n",
      "Step 5 / 5\n",
      "0.847112401161\n",
      "Step 1 / 5\n",
      "0.801134898117\n",
      "Step 2 / 5\n",
      "0.803004900696\n",
      "Step 3 / 5\n",
      "0.804359040495\n",
      "Step 4 / 5\n",
      "0.803649729172\n",
      "Step 5 / 5\n",
      "0.803907660562\n",
      "Step 1 / 5\n",
      "0.832853598015\n",
      "Step 2 / 5\n",
      "0.828089330025\n",
      "Step 3 / 5\n",
      "0.839602977667\n",
      "Step 4 / 5\n",
      "0.837717121588\n",
      "Step 5 / 5\n",
      "0.827791563275\n",
      "Step 1 / 5\n",
      "0.824007220217\n",
      "Step 2 / 5\n",
      "0.840703971119\n",
      "Step 3 / 5\n",
      "0.827842960289\n",
      "Step 4 / 5\n",
      "0.825135379061\n",
      "Step 5 / 5\n",
      "0.834837545126\n"
     ]
    }
   ],
   "source": [
    "logistic_regression_0 = LogisticRegression(degree=3, gamma=0.1)\n",
    "logistic_regression_1 = LogisticRegression(degree=6, gamma=0.1)\n",
    "logistic_regression_2 = LogisticRegression(degree=6, gamma=0.1)\n",
    "logistic_regression_3 = LogisticRegression(degree=6, gamma=0.1)\n",
    "\n",
    "models = [logistic_regression_0, logistic_regression_1, logistic_regression_2, logistic_regression_3]\n",
    "\n",
    "accuracies, variances = cat_cross_validation(models, y_train_logi, x_train)"
   ]
  },
  {
   "cell_type": "code",
   "execution_count": 48,
   "metadata": {},
   "outputs": [
    {
     "name": "stdout",
     "output_type": "stream",
     "text": [
      "Accuracy per cat: [0.84048643779401466, 0.8032112458086148, 0.83321091811414405, 0.83050541516245491]\n",
      "Variances per cat: [0.0038667170300329726, 0.0011268089326181561, 0.0048351224216169426, 0.006339248928082933]\n",
      "Total mean: 0.82685350422\n"
     ]
    }
   ],
   "source": [
    "print_result(accuracies)"
   ]
  }
 ],
 "metadata": {
  "kernelspec": {
   "display_name": "Python 3",
   "language": "python",
   "name": "python3"
  },
  "language_info": {
   "codemirror_mode": {
    "name": "ipython",
    "version": 3
   },
   "file_extension": ".py",
   "mimetype": "text/x-python",
   "name": "python",
   "nbconvert_exporter": "python",
   "pygments_lexer": "ipython3",
   "version": "3.6.2"
  }
 },
 "nbformat": 4,
 "nbformat_minor": 2
}
