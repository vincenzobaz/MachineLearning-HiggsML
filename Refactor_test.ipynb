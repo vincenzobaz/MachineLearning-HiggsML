{
 "cells": [
  {
   "cell_type": "code",
   "execution_count": 207,
   "metadata": {
    "scrolled": true
   },
   "outputs": [
    {
     "name": "stdout",
     "output_type": "stream",
     "text": [
      "The autoreload extension is already loaded. To reload it, use:\n",
      "  %reload_ext autoreload\n"
     ]
    }
   ],
   "source": [
    "import scripts.proj1_helpers as helper\n",
    "import run as run\n",
    "import implementations as imp\n",
    "import numpy as np\n",
    "import pandas as pd\n",
    "import matplotlib.pyplot as plt\n",
    "import time\n",
    "import cross_validation as cv\n",
    "from preprocessor import Preprocessor\n",
    "from least_squares import LeastSquares\n",
    "from model_ensembler import Model_Ensembler\n",
    "%matplotlib inline\n",
    "%load_ext autoreload\n",
    "%autoreload 2"
   ]
  },
  {
   "cell_type": "markdown",
   "metadata": {},
   "source": [
    "### Import data"
   ]
  },
  {
   "cell_type": "code",
   "execution_count": 158,
   "metadata": {
    "collapsed": true
   },
   "outputs": [],
   "source": [
    "y_train, x_train, ids_train = helper.load_csv_data('train.csv')\n",
    "y_test, x_test, ids_test = helper.load_csv_data('test.csv')"
   ]
  },
  {
   "cell_type": "markdown",
   "metadata": {},
   "source": [
    "### Test"
   ]
  },
  {
   "cell_type": "code",
   "execution_count": 234,
   "metadata": {
    "collapsed": true
   },
   "outputs": [],
   "source": [
    "def preprocess_train(x_tr, deg=1):\n",
    "    x = x_tr.copy()\n",
    "    stds = np.std(x, axis=0)\n",
    "    deleted_cols_ids = np.where(stds == 0)\n",
    "    x = np.delete(x, deleted_cols_ids, axis=1)\n",
    "    run.mean_spec(x)\n",
    "    x = run.standardize(x)\n",
    "    x = run.polynomial_enhancement(x, deg)\n",
    "    x = np.hstack((np.ones((x.shape[0], 1)), x))\n",
    "    return x, deleted_cols_ids\n",
    "\n",
    "def preprocess_test(x_te, dependency, deg=1): \n",
    "    x = x_te.copy()\n",
    "    stds = np.std(x, axis=0)\n",
    "    x = np.delete(x, dependency, axis=1)\n",
    "    run.mean_spec(x)\n",
    "    x = run.standardize(x)\n",
    "    x = run.polynomial_enhancement(x, deg)\n",
    "    x = np.hstack((np.ones((x.shape[0], 1)), x))\n",
    "    return x\n",
    "\n",
    "preprocess_train_model_1 = lambda x_tr: preprocess_train(x_tr, deg=1)\n",
    "preprocess_test_model_1 = lambda x_te, dependency: preprocess_test(x_te, dependency, deg=1)    \n",
    "\n",
    "def preprocess_train_meta_model(x_tr):\n",
    "    return run.polynomial_enhancement(x_tr, 1), None\n",
    "    \n",
    "def preprocess_test_meta_model(x_te, dependency):\n",
    "    return run.polynomial_enhancement(x_te, 1)\n",
    "    \n",
    "\n",
    "#preprocess_train_meta_model = lambda x_tr: run.polynomial_enhancement(x_tr, 4), None\n",
    "#preprocess_test_meta_model = lambda x_te: run.polynomial_enhancement(x_te, 4)"
   ]
  },
  {
   "cell_type": "code",
   "execution_count": 235,
   "metadata": {},
   "outputs": [],
   "source": [
    "preprocessor_1 = Preprocessor(preprocess_train, preprocess_test)\n",
    "preprocessor_2 = Preprocessor(preprocess_train_model_1, preprocess_test_model_1)\n",
    "preprocessor_meta = Preprocessor(preprocess_train_meta_model, preprocess_test_meta_model)"
   ]
  },
  {
   "cell_type": "code",
   "execution_count": 236,
   "metadata": {
    "collapsed": true
   },
   "outputs": [],
   "source": [
    "least_square_model_1 = LeastSquares(preprocessor_1)\n",
    "least_square_model_2 = LeastSquares(preprocessor_2)\n",
    "\n",
    "least_square_meta_model = LeastSquares(preprocessor_meta)"
   ]
  },
  {
   "cell_type": "code",
   "execution_count": 237,
   "metadata": {},
   "outputs": [],
   "source": [
    "model_ensembler = Model_Ensembler([least_square_model_1, least_square_model_2], least_square_meta_model)"
   ]
  },
  {
   "cell_type": "code",
   "execution_count": 238,
   "metadata": {
    "scrolled": true
   },
   "outputs": [
    {
     "data": {
      "text/plain": [
       "[0.63260000000000005,\n",
       " 0.65788000000000002,\n",
       " 0.67259999999999998,\n",
       " 0.34338000000000002,\n",
       " 0.34460000000000002]"
      ]
     },
     "execution_count": 238,
     "metadata": {},
     "output_type": "execute_result"
    }
   ],
   "source": [
    "accuracy = cv.cross_validation(y_train, x_train, 5, model_ensembler, seed=1, compute_loss=imp.rmse)\n",
    "accuracy "
   ]
  },
  {
   "cell_type": "code",
   "execution_count": 213,
   "metadata": {},
   "outputs": [
    {
     "data": {
      "text/plain": [
       "0.59623199999999998"
      ]
     },
     "execution_count": 213,
     "metadata": {},
     "output_type": "execute_result"
    }
   ],
   "source": [
    "sum(accuracy) / len(accuracy)"
   ]
  },
  {
   "cell_type": "code",
   "execution_count": 56,
   "metadata": {},
   "outputs": [],
   "source": [
    "least_square_model.train(y_train, x_train)"
   ]
  },
  {
   "cell_type": "code",
   "execution_count": null,
   "metadata": {
    "collapsed": true
   },
   "outputs": [],
   "source": []
  },
  {
   "cell_type": "code",
   "execution_count": null,
   "metadata": {
    "collapsed": true
   },
   "outputs": [],
   "source": []
  },
  {
   "cell_type": "code",
   "execution_count": null,
   "metadata": {
    "collapsed": true
   },
   "outputs": [],
   "source": []
  },
  {
   "cell_type": "code",
   "execution_count": null,
   "metadata": {
    "collapsed": true
   },
   "outputs": [],
   "source": []
  },
  {
   "cell_type": "code",
   "execution_count": null,
   "metadata": {
    "collapsed": true
   },
   "outputs": [],
   "source": []
  },
  {
   "cell_type": "code",
   "execution_count": null,
   "metadata": {
    "collapsed": true
   },
   "outputs": [],
   "source": []
  },
  {
   "cell_type": "code",
   "execution_count": null,
   "metadata": {
    "collapsed": true
   },
   "outputs": [],
   "source": []
  },
  {
   "cell_type": "code",
   "execution_count": null,
   "metadata": {
    "collapsed": true
   },
   "outputs": [],
   "source": []
  }
 ],
 "metadata": {
  "kernelspec": {
   "display_name": "Python 3",
   "language": "python",
   "name": "python3"
  },
  "language_info": {
   "codemirror_mode": {
    "name": "ipython",
    "version": 3
   },
   "file_extension": ".py",
   "mimetype": "text/x-python",
   "name": "python",
   "nbconvert_exporter": "python",
   "pygments_lexer": "ipython3",
   "version": "3.6.2"
  }
 },
 "nbformat": 4,
 "nbformat_minor": 2
}
