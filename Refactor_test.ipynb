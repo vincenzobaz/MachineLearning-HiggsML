{
 "cells": [
  {
   "cell_type": "code",
   "execution_count": 1,
   "metadata": {
    "scrolled": true
   },
   "outputs": [],
   "source": [
    "import scripts.proj1_helpers as helper\n",
    "\n",
    "import numpy as np\n",
    "import pandas as pd\n",
    "import matplotlib.pyplot as plt\n",
    "import time\n",
    "\n",
    "#import implementations as imp\n",
    "#import cross_validation as cv\n",
    "#from preprocessor import Preprocessor\n",
    "#from model_ensembler import Model_Ensembler\n",
    "\n",
    "import run\n",
    "from least_squares import LeastSquares\n",
    "from logistic import LogisticRegression\n",
    "%matplotlib inline\n",
    "%load_ext autoreload\n",
    "%autoreload 2"
   ]
  },
  {
   "cell_type": "markdown",
   "metadata": {},
   "source": [
    "### Import data"
   ]
  },
  {
   "cell_type": "code",
   "execution_count": 2,
   "metadata": {
    "collapsed": true
   },
   "outputs": [],
   "source": [
    "y_train, x_train, ids_train = helper.load_csv_data('train.csv')\n",
    "y_test, x_test, ids_test = helper.load_csv_data('test.csv')"
   ]
  },
  {
   "cell_type": "markdown",
   "metadata": {},
   "source": [
    "#### Preprocess option 1"
   ]
  },
  {
   "cell_type": "code",
   "execution_count": 3,
   "metadata": {
    "collapsed": true
   },
   "outputs": [],
   "source": [
    "y_train[y_train < 0] = 0"
   ]
  },
  {
   "cell_type": "code",
   "execution_count": null,
   "metadata": {
    "collapsed": true
   },
   "outputs": [],
   "source": [
    "lr = LogisticRegression(degree=4, gamma=0.1)"
   ]
  },
  {
   "cell_type": "code",
   "execution_count": null,
   "metadata": {},
   "outputs": [],
   "source": [
    "accuracy = run.best_cross_validation(y_train, x_train, 5, lr, seed=1)\n",
    "accuracy "
   ]
  },
  {
   "cell_type": "code",
   "execution_count": null,
   "metadata": {},
   "outputs": [],
   "source": [
    "sum(accuracy) / len(accuracy)"
   ]
  },
  {
   "cell_type": "code",
   "execution_count": 6,
   "metadata": {
    "scrolled": false
   },
   "outputs": [
    {
     "name": "stdout",
     "output_type": "stream",
     "text": [
      "Executed step 1 / 3 of cross validation\n",
      "Executed step 2 / 3 of cross validation\n",
      "Executed step 3 / 3 of cross validation\n",
      "1 / 120 ( 4 , 0.01 ) 0.799875199501\n",
      "Executed step 1 / 3 of cross validation\n",
      "Executed step 2 / 3 of cross validation\n",
      "Executed step 3 / 3 of cross validation\n",
      "2 / 120 ( 4 , 0.0121052631579 ) 0.801279205117\n",
      "Executed step 1 / 3 of cross validation\n",
      "Executed step 2 / 3 of cross validation\n",
      "Executed step 3 / 3 of cross validation\n",
      "3 / 120 ( 4 , 0.0142105263158 ) 0.802755211021\n",
      "Executed step 1 / 3 of cross validation\n",
      "Executed step 2 / 3 of cross validation\n",
      "Executed step 3 / 3 of cross validation\n",
      "4 / 120 ( 4 , 0.0163157894737 ) 0.804107216429\n",
      "Executed step 1 / 3 of cross validation\n",
      "Executed step 2 / 3 of cross validation\n",
      "Executed step 3 / 3 of cross validation\n",
      "5 / 120 ( 4 , 0.0184210526316 ) 0.804903219613\n",
      "Executed step 1 / 3 of cross validation\n",
      "Executed step 2 / 3 of cross validation\n",
      "Executed step 3 / 3 of cross validation\n",
      "6 / 120 ( 4 , 0.0205263157895 ) 0.805995223981\n",
      "Executed step 1 / 3 of cross validation\n",
      "Executed step 2 / 3 of cross validation\n",
      "Executed step 3 / 3 of cross validation\n",
      "7 / 120 ( 4 , 0.0226315789474 ) 0.806771227085\n",
      "Executed step 1 / 3 of cross validation\n",
      "Executed step 2 / 3 of cross validation\n",
      "Executed step 3 / 3 of cross validation\n",
      "8 / 120 ( 4 , 0.0247368421053 ) 0.807627230509\n",
      "Executed step 1 / 3 of cross validation\n",
      "Executed step 2 / 3 of cross validation\n",
      "Executed step 3 / 3 of cross validation\n",
      "9 / 120 ( 4 , 0.0268421052632 ) 0.808203232813\n",
      "Executed step 1 / 3 of cross validation\n",
      "Executed step 2 / 3 of cross validation\n",
      "Executed step 3 / 3 of cross validation\n",
      "10 / 120 ( 4 , 0.0289473684211 ) 0.808807235229\n",
      "Executed step 1 / 3 of cross validation\n",
      "Executed step 2 / 3 of cross validation\n",
      "Executed step 3 / 3 of cross validation\n",
      "11 / 120 ( 4 , 0.0310526315789 ) 0.809159236637\n",
      "Executed step 1 / 3 of cross validation\n",
      "Executed step 2 / 3 of cross validation\n",
      "Executed step 3 / 3 of cross validation\n",
      "12 / 120 ( 4 , 0.0331578947368 ) 0.809599238397\n",
      "Executed step 1 / 3 of cross validation\n",
      "Executed step 2 / 3 of cross validation\n",
      "Executed step 3 / 3 of cross validation\n",
      "13 / 120 ( 4 , 0.0352631578947 ) 0.809807239229\n",
      "Executed step 1 / 3 of cross validation\n",
      "Executed step 2 / 3 of cross validation\n",
      "Executed step 3 / 3 of cross validation\n",
      "14 / 120 ( 4 , 0.0373684210526 ) 0.810183240733\n",
      "Executed step 1 / 3 of cross validation\n",
      "Executed step 2 / 3 of cross validation\n",
      "Executed step 3 / 3 of cross validation\n",
      "15 / 120 ( 4 , 0.0394736842105 ) 0.810335241341\n",
      "Executed step 1 / 3 of cross validation\n",
      "Executed step 2 / 3 of cross validation\n",
      "Executed step 3 / 3 of cross validation\n",
      "16 / 120 ( 4 , 0.0415789473684 ) 0.810499241997\n",
      "Executed step 1 / 3 of cross validation\n",
      "Executed step 2 / 3 of cross validation\n",
      "Executed step 3 / 3 of cross validation\n",
      "17 / 120 ( 4 , 0.0436842105263 ) 0.810655242621\n",
      "Executed step 1 / 3 of cross validation\n",
      "Executed step 2 / 3 of cross validation\n",
      "Executed step 3 / 3 of cross validation\n",
      "18 / 120 ( 4 , 0.0457894736842 ) 0.810743242973\n",
      "Executed step 1 / 3 of cross validation\n",
      "Executed step 2 / 3 of cross validation\n",
      "Executed step 3 / 3 of cross validation\n",
      "19 / 120 ( 4 , 0.0478947368421 ) 0.810863243453\n",
      "Executed step 1 / 3 of cross validation\n",
      "Executed step 2 / 3 of cross validation\n",
      "Executed step 3 / 3 of cross validation\n",
      "20 / 120 ( 4 , 0.05 ) 0.808127232509\n"
     ]
    }
   ],
   "source": [
    "n = 1\n",
    "for deg in range(4, 5):\n",
    "    for gamma in np.linspace(0.01, 0.05, 20):\n",
    "        lr = LogisticRegression(degree=deg, gamma=gamma)\n",
    "        accuracy = run.best_cross_validation(y_train, x_train, 3, lr, seed=1)\n",
    "        accuracy = sum(accuracy) / len(accuracy)\n",
    "        print(n, '/ 120', '(', deg, ',', gamma, ')', accuracy)\n",
    "        n += 1"
   ]
  },
  {
   "cell_type": "markdown",
   "metadata": {},
   "source": [
    "#### Preprocess option 2"
   ]
  },
  {
   "cell_type": "code",
   "execution_count": null,
   "metadata": {
    "collapsed": true
   },
   "outputs": [],
   "source": [
    "def preprocess(x_train, x_test, deg=1):\n",
    "    x_train_end = x_train.shape[0]\n",
    "    \n",
    "    x_stacked = np.vstack((x_train, x_test))\n",
    "    \n",
    "    x = x_stacked.copy()\n",
    "    stds = np.std(x, axis=0)\n",
    "    deleted_cols_ids = np.where(stds == 0)\n",
    "    x = np.delete(x, deleted_cols_ids, axis=1)\n",
    "    run.mean_spec(x)\n",
    "    x = run.standardize(x)\n",
    "    #x = run.polynomial_enhancement(x, deg)\n",
    "    return x[:x_train_end], x[x_train_end:]\n",
    "    "
   ]
  },
  {
   "cell_type": "code",
   "execution_count": null,
   "metadata": {
    "collapsed": true
   },
   "outputs": [],
   "source": [
    "x_train, x_test = preprocess(x_train, x_test)"
   ]
  },
  {
   "cell_type": "code",
   "execution_count": null,
   "metadata": {
    "collapsed": true
   },
   "outputs": [],
   "source": []
  },
  {
   "cell_type": "code",
   "execution_count": null,
   "metadata": {
    "collapsed": true
   },
   "outputs": [],
   "source": []
  },
  {
   "cell_type": "code",
   "execution_count": null,
   "metadata": {
    "collapsed": true
   },
   "outputs": [],
   "source": []
  },
  {
   "cell_type": "code",
   "execution_count": null,
   "metadata": {
    "collapsed": true
   },
   "outputs": [],
   "source": []
  },
  {
   "cell_type": "code",
   "execution_count": null,
   "metadata": {
    "collapsed": true
   },
   "outputs": [],
   "source": []
  },
  {
   "cell_type": "code",
   "execution_count": null,
   "metadata": {
    "collapsed": true
   },
   "outputs": [],
   "source": []
  },
  {
   "cell_type": "code",
   "execution_count": null,
   "metadata": {
    "collapsed": true
   },
   "outputs": [],
   "source": []
  },
  {
   "cell_type": "code",
   "execution_count": null,
   "metadata": {
    "collapsed": true
   },
   "outputs": [],
   "source": []
  },
  {
   "cell_type": "code",
   "execution_count": null,
   "metadata": {
    "collapsed": true
   },
   "outputs": [],
   "source": []
  },
  {
   "cell_type": "code",
   "execution_count": null,
   "metadata": {
    "collapsed": true
   },
   "outputs": [],
   "source": []
  },
  {
   "cell_type": "code",
   "execution_count": null,
   "metadata": {
    "collapsed": true
   },
   "outputs": [],
   "source": []
  },
  {
   "cell_type": "code",
   "execution_count": null,
   "metadata": {
    "collapsed": true
   },
   "outputs": [],
   "source": []
  },
  {
   "cell_type": "code",
   "execution_count": null,
   "metadata": {
    "collapsed": true
   },
   "outputs": [],
   "source": []
  },
  {
   "cell_type": "code",
   "execution_count": null,
   "metadata": {
    "collapsed": true
   },
   "outputs": [],
   "source": []
  },
  {
   "cell_type": "code",
   "execution_count": null,
   "metadata": {
    "collapsed": true
   },
   "outputs": [],
   "source": []
  },
  {
   "cell_type": "code",
   "execution_count": null,
   "metadata": {
    "collapsed": true
   },
   "outputs": [],
   "source": []
  },
  {
   "cell_type": "code",
   "execution_count": null,
   "metadata": {
    "collapsed": true
   },
   "outputs": [],
   "source": []
  },
  {
   "cell_type": "code",
   "execution_count": null,
   "metadata": {
    "collapsed": true
   },
   "outputs": [],
   "source": []
  },
  {
   "cell_type": "code",
   "execution_count": null,
   "metadata": {
    "collapsed": true
   },
   "outputs": [],
   "source": []
  },
  {
   "cell_type": "code",
   "execution_count": null,
   "metadata": {
    "collapsed": true
   },
   "outputs": [],
   "source": []
  },
  {
   "cell_type": "code",
   "execution_count": null,
   "metadata": {
    "collapsed": true
   },
   "outputs": [],
   "source": []
  },
  {
   "cell_type": "code",
   "execution_count": null,
   "metadata": {
    "collapsed": true
   },
   "outputs": [],
   "source": []
  },
  {
   "cell_type": "code",
   "execution_count": null,
   "metadata": {
    "collapsed": true
   },
   "outputs": [],
   "source": []
  },
  {
   "cell_type": "code",
   "execution_count": null,
   "metadata": {
    "collapsed": true
   },
   "outputs": [],
   "source": []
  },
  {
   "cell_type": "code",
   "execution_count": null,
   "metadata": {
    "collapsed": true
   },
   "outputs": [],
   "source": []
  },
  {
   "cell_type": "code",
   "execution_count": null,
   "metadata": {
    "collapsed": true
   },
   "outputs": [],
   "source": []
  },
  {
   "cell_type": "code",
   "execution_count": null,
   "metadata": {
    "collapsed": true
   },
   "outputs": [],
   "source": []
  },
  {
   "cell_type": "code",
   "execution_count": null,
   "metadata": {
    "collapsed": true
   },
   "outputs": [],
   "source": []
  },
  {
   "cell_type": "code",
   "execution_count": null,
   "metadata": {
    "collapsed": true
   },
   "outputs": [],
   "source": []
  },
  {
   "cell_type": "code",
   "execution_count": null,
   "metadata": {
    "collapsed": true
   },
   "outputs": [],
   "source": []
  },
  {
   "cell_type": "markdown",
   "metadata": {},
   "source": [
    "### Test"
   ]
  },
  {
   "cell_type": "code",
   "execution_count": null,
   "metadata": {
    "collapsed": true
   },
   "outputs": [],
   "source": [
    "least_square_model_1 = LeastSquares(degree=8)"
   ]
  },
  {
   "cell_type": "code",
   "execution_count": null,
   "metadata": {},
   "outputs": [],
   "source": [
    "accuracy = cv.cross_validation(y_train, x_train, 5, least_square_model_1, seed=1, compute_loss=imp.rmse)\n",
    "accuracy "
   ]
  },
  {
   "cell_type": "markdown",
   "metadata": {},
   "source": [
    "### Garbage (kept just in case)"
   ]
  },
  {
   "cell_type": "code",
   "execution_count": null,
   "metadata": {
    "collapsed": true
   },
   "outputs": [],
   "source": [
    "def preprocess_train(x_tr, deg=4):\n",
    "    x = x_tr.copy()\n",
    "    x = run.polynomial_enhancement(x, deg)\n",
    "    return x, None\n",
    "\n",
    "def preprocess_test(x_te, dependency, deg=4): \n",
    "    x = x_te.copy()\n",
    "    x = run.polynomial_enhancement(x, deg)\n",
    "    return x\n",
    "\n",
    "preprocess_train_model_1 = lambda x_tr: preprocess_train(x_tr, deg=4)\n",
    "preprocess_test_model_1 = lambda x_te, dependency: preprocess_test(x_te, dependency, deg=4)    \n",
    "\n",
    "def preprocess_train_meta_model(x_tr, deg=4):\n",
    "    x = x_tr.copy()\n",
    "    stacked_x = np.tile(x, deg)\n",
    "    power_vec = np.repeat(np.array(range(1, deg + 1)), x.shape[1])\n",
    "    return stacked_x ** power_vec, None\n",
    "    \n",
    "def preprocess_test_meta_model(x_te, dependency, deg=4):\n",
    "    x = x_te.copy()\n",
    "    stacked_x = np.tile(x, deg)\n",
    "    power_vec = np.repeat(np.array(range(1, deg + 1)), x.shape[1])\n",
    "    return stacked_x ** power_vec\n",
    "    \n",
    "\n",
    "#preprocess_train_meta_model = lambda x_tr: run.polynomial_enhancement(x_tr, 4), None\n",
    "#preprocess_test_meta_model = lambda x_te: run.polynomial_enhancement(x_te, 4)"
   ]
  },
  {
   "cell_type": "code",
   "execution_count": null,
   "metadata": {
    "collapsed": true
   },
   "outputs": [],
   "source": [
    "least_square_model_1 = LeastSquares(degree=4)"
   ]
  },
  {
   "cell_type": "code",
   "execution_count": null,
   "metadata": {
    "collapsed": true
   },
   "outputs": [],
   "source": [
    "preprocessor_1 = Preprocessor(preprocess_train, preprocess_test)\n",
    "preprocessor_2 = Preprocessor(preprocess_train_model_1, preprocess_test_model_1)\n",
    "preprocessor_meta = Preprocessor(preprocess_train_meta_model, preprocess_test_meta_model)"
   ]
  },
  {
   "cell_type": "code",
   "execution_count": null,
   "metadata": {
    "collapsed": true
   },
   "outputs": [],
   "source": [
    "least_square_model_1 = LeastSquares(preprocessor_1)\n",
    "least_square_model_2 = LeastSquares(preprocessor_2)\n",
    "\n",
    "least_square_meta_model = LeastSquares(preprocessor_meta)"
   ]
  },
  {
   "cell_type": "code",
   "execution_count": null,
   "metadata": {
    "collapsed": true
   },
   "outputs": [],
   "source": []
  },
  {
   "cell_type": "code",
   "execution_count": null,
   "metadata": {
    "collapsed": true
   },
   "outputs": [],
   "source": [
    "model_ensembler = Model_Ensembler([least_square_model_1, least_square_model_2], least_square_meta_model)"
   ]
  },
  {
   "cell_type": "code",
   "execution_count": null,
   "metadata": {
    "collapsed": true
   },
   "outputs": [],
   "source": [
    "least_square_model_1 = LeastSquares(preprocessor_1)\n",
    "least_square_model_1.train(y_train[:half_index], x_train[:half_index])\n",
    "\n",
    "least_square_model_2 = LeastSquares(preprocessor_2)\n",
    "least_square_model_2.train(y_train[:half_index], x_train[:half_index])\n",
    "\n",
    "models = [least_square_model_1, least_square_model_2]\n",
    "\n",
    "stage_0_results = np.hstack([model.predict(x_train[half_index:]) for model in models])\n",
    "\n"
   ]
  },
  {
   "cell_type": "code",
   "execution_count": null,
   "metadata": {
    "collapsed": true,
    "scrolled": true
   },
   "outputs": [],
   "source": [
    "logistic_regression = LogisticRegression(preprocessor_1, gamma=0.1)"
   ]
  },
  {
   "cell_type": "code",
   "execution_count": null,
   "metadata": {
    "scrolled": true
   },
   "outputs": [],
   "source": [
    "accuracy = cv.cross_validation(y_train, x_train, 5, least_square_model_1, seed=1, compute_loss=imp.rmse)\n",
    "accuracy "
   ]
  },
  {
   "cell_type": "code",
   "execution_count": null,
   "metadata": {},
   "outputs": [],
   "source": [
    "sum(accuracy) / len(accuracy)"
   ]
  },
  {
   "cell_type": "code",
   "execution_count": null,
   "metadata": {
    "collapsed": true
   },
   "outputs": [],
   "source": []
  }
 ],
 "metadata": {
  "kernelspec": {
   "display_name": "Python 3",
   "language": "python",
   "name": "python3"
  },
  "language_info": {
   "codemirror_mode": {
    "name": "ipython",
    "version": 3
   },
   "file_extension": ".py",
   "mimetype": "text/x-python",
   "name": "python",
   "nbconvert_exporter": "python",
   "pygments_lexer": "ipython3",
   "version": "3.6.1"
  }
 },
 "nbformat": 4,
 "nbformat_minor": 2
}
