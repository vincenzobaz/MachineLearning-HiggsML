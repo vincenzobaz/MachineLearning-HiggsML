{
 "cells": [
  {
   "cell_type": "code",
   "execution_count": 1,
   "metadata": {
    "collapsed": true
   },
   "outputs": [],
   "source": [
    "import scripts.proj1_helpers as helper\n",
    "import implementations as imp\n",
    "import numpy as np\n",
    "import pandas as pd\n",
    "import matplotlib.pyplot as plt\n",
    "import time\n",
    "%matplotlib inline\n",
    "%load_ext autoreload\n",
    "%autoreload 2"
   ]
  },
  {
   "cell_type": "markdown",
   "metadata": {},
   "source": [
    "## Feature engineering"
   ]
  },
  {
   "cell_type": "code",
   "execution_count": null,
   "metadata": {
    "collapsed": true
   },
   "outputs": [],
   "source": [
    "df = pd.read_csv('train.csv')"
   ]
  },
  {
   "cell_type": "code",
   "execution_count": null,
   "metadata": {
    "collapsed": true
   },
   "outputs": [],
   "source": [
    "dfb = pd.read_csv('test.csv')"
   ]
  },
  {
   "cell_type": "code",
   "execution_count": null,
   "metadata": {
    "collapsed": true,
    "scrolled": true
   },
   "outputs": [],
   "source": [
    "len(df[df == -999.0])"
   ]
  },
  {
   "cell_type": "code",
   "execution_count": null,
   "metadata": {
    "collapsed": true
   },
   "outputs": [],
   "source": [
    "for i, c in enumerate(df.columns):\n",
    "    print(i, c)"
   ]
  },
  {
   "cell_type": "code",
   "execution_count": null,
   "metadata": {
    "collapsed": true
   },
   "outputs": [],
   "source": [
    "df.PRI_jet_num.unique()"
   ]
  },
  {
   "cell_type": "markdown",
   "metadata": {},
   "source": [
    "## Import the data"
   ]
  },
  {
   "cell_type": "markdown",
   "metadata": {},
   "source": [
    "boson is -1\n",
    "\n",
    "not boson is 1"
   ]
  },
  {
   "cell_type": "code",
   "execution_count": 2,
   "metadata": {},
   "outputs": [
    {
     "name": "stdout",
     "output_type": "stream",
     "text": [
      "(250000, 30)\n",
      "(568238, 30)\n"
     ]
    }
   ],
   "source": [
    "y_train, x_train, ids_train = helper.load_csv_data('train.csv')\n",
    "y_test, x_test, ids_test = helper.load_csv_data('test.csv')\n",
    "print(x_train.shape)\n",
    "print(x_test.shape)"
   ]
  },
  {
   "cell_type": "code",
   "execution_count": 3,
   "metadata": {},
   "outputs": [
    {
     "name": "stdout",
     "output_type": "stream",
     "text": [
      "Number of boson: 164333\n",
      "Number of other: 85667\n"
     ]
    }
   ],
   "source": [
    "print('Number of boson:', np.count_nonzero(y_train-1))\n",
    "print('Number of other:', np.count_nonzero(y_train+1))"
   ]
  },
  {
   "cell_type": "code",
   "execution_count": 4,
   "metadata": {
    "collapsed": true
   },
   "outputs": [],
   "source": [
    "def col_standardize(x):\n",
    "    means = [np.mean(col) for col in x.T]\n",
    "    stds = [np.std(col) for col in x.T]\n",
    "    return (x - means) / stds"
   ]
  },
  {
   "cell_type": "code",
   "execution_count": 5,
   "metadata": {
    "collapsed": true
   },
   "outputs": [],
   "source": [
    "def standardize(x):\n",
    "    return (x - np.mean(x, axis=0)) / np.std(x, axis=0)"
   ]
  },
  {
   "cell_type": "code",
   "execution_count": 6,
   "metadata": {
    "collapsed": true
   },
   "outputs": [],
   "source": [
    "std_x_train = standardize(x_train)\n",
    "std_x_test = standardize(x_test)"
   ]
  },
  {
   "cell_type": "code",
   "execution_count": 7,
   "metadata": {
    "collapsed": true
   },
   "outputs": [],
   "source": [
    "col_std_x_train = col_standardize(x_train)\n",
    "col_std_x_test = col_standardize(x_test)"
   ]
  },
  {
   "cell_type": "code",
   "execution_count": 8,
   "metadata": {
    "collapsed": true
   },
   "outputs": [],
   "source": [
    "y_train[y_train < 0] = 0"
   ]
  },
  {
   "cell_type": "code",
   "execution_count": 11,
   "metadata": {
    "collapsed": true
   },
   "outputs": [],
   "source": [
    "def mean_spec(data):\n",
    "    for column in data.T:\n",
    "        temp = 0\n",
    "        agg = 0\n",
    "        for elem in column:\n",
    "            if elem != -999.0:\n",
    "                temp += elem\n",
    "                agg += 1\n",
    "        column[column == -999.0] = temp / agg "
   ]
  },
  {
   "cell_type": "markdown",
   "metadata": {},
   "source": [
    "## Logistic regression per category"
   ]
  },
  {
   "cell_type": "code",
   "execution_count": 9,
   "metadata": {},
   "outputs": [
    {
     "data": {
      "text/plain": [
       "array([ 0.,  1.,  0., ...,  0.,  1.,  0.])"
      ]
     },
     "execution_count": 9,
     "metadata": {},
     "output_type": "execute_result"
    }
   ],
   "source": [
    "x_test[:, 22]"
   ]
  },
  {
   "cell_type": "code",
   "execution_count": 10,
   "metadata": {},
   "outputs": [
    {
     "data": {
      "text/plain": [
       "((568238, 30), (250000, 30))"
      ]
     },
     "execution_count": 10,
     "metadata": {},
     "output_type": "execute_result"
    }
   ],
   "source": [
    "x_test.shape, x_train.shape"
   ]
  },
  {
   "cell_type": "code",
   "execution_count": null,
   "metadata": {
    "scrolled": false
   },
   "outputs": [
    {
     "name": "stdout",
     "output_type": "stream",
     "text": [
      "Current iteration=0, the loss=69254.41425128581\n",
      "Current iteration=1, the loss=69208.90428414074\n",
      "Current iteration=2, the loss=69163.48523946217\n",
      "Current iteration=3, the loss=69072.8737758171\n",
      "Current iteration=4, the loss=68937.5655872601\n",
      "Current iteration=5, the loss=68668.96439718782\n",
      "Current iteration=6, the loss=68183.57351498472\n",
      "Current iteration=7, the loss=67323.85833983579\n",
      "Current iteration=8, the loss=65847.37089690354\n",
      "Current iteration=9, the loss=63394.21388079635\n",
      "Current iteration=10, the loss=59637.81527346663\n",
      "Current iteration=11, the loss=54506.90755529719\n",
      "Current iteration=12, the loss=48659.72656265644\n",
      "Current iteration=13, the loss=43429.53992474085\n",
      "Current iteration=14, the loss=40125.34365060623\n",
      "Current iteration=15, the loss=39170.31737022318\n",
      "Current iteration=16, the loss=39100.76520710189\n",
      "Current iteration=17, the loss=39100.21091886534\n"
     ]
    },
    {
     "name": "stderr",
     "output_type": "stream",
     "text": [
      "/Users/Alexis/anaconda/lib/python3.6/site-packages/ipykernel_launcher.py:30: DeprecationWarning: assignment will raise an error in the future, most likely because your index result shape does not match the value array shape. You can use `arr.flat[index] = values` to keep the old behaviour.\n"
     ]
    },
    {
     "name": "stdout",
     "output_type": "stream",
     "text": [
      "Current iteration=0, the loss=53749.4049693404\n",
      "Current iteration=1, the loss=53729.664840458056\n",
      "Current iteration=2, the loss=53709.96412509426\n",
      "Current iteration=3, the loss=53690.302478978076\n",
      "Current iteration=4, the loss=53670.68037978958\n",
      "Current iteration=5, the loss=53631.5340480715\n",
      "Current iteration=6, the loss=53573.07684778826\n",
      "Current iteration=7, the loss=53495.6367103348\n",
      "Current iteration=8, the loss=53380.51055058667\n",
      "Current iteration=9, the loss=53210.11287990314\n",
      "Current iteration=10, the loss=52968.794032836115\n",
      "Current iteration=11, the loss=52643.855316932335\n",
      "Current iteration=12, the loss=52192.383479287\n",
      "Current iteration=13, the loss=51568.250995956434\n",
      "Current iteration=14, the loss=50748.900943282744\n",
      "Current iteration=15, the loss=49715.66181867434\n",
      "Current iteration=16, the loss=48475.246658135584\n",
      "Current iteration=17, the loss=47088.34100470683\n",
      "Current iteration=18, the loss=45659.71090935227\n",
      "Current iteration=19, the loss=44336.729726831414\n",
      "Current iteration=20, the loss=43261.86807726349\n",
      "Current iteration=21, the loss=42528.10764981812\n",
      "Current iteration=22, the loss=42132.76232161021\n",
      "Current iteration=23, the loss=41978.06854693604\n",
      "Current iteration=24, the loss=41936.929253822265\n",
      "Current iteration=25, the loss=41929.45496769383\n",
      "Current iteration=26, the loss=41928.43163258278\n",
      "Current iteration=27, the loss=41928.31036075393\n",
      "Current iteration=28, the loss=41928.29687181435\n",
      "Current iteration=29, the loss=41928.29540511496\n",
      "Current iteration=30, the loss=41928.295246007416\n",
      "Current iteration=0, the loss=34920.061809429484\n",
      "Current iteration=1, the loss=34905.50047441535\n",
      "Current iteration=2, the loss=34890.96823638901\n",
      "Current iteration=3, the loss=34876.46500833264\n",
      "Current iteration=4, the loss=34861.99071322556\n",
      "Current iteration=5, the loss=34833.11425652536\n",
      "Current iteration=6, the loss=34789.99348321505\n",
      "Current iteration=7, the loss=34732.86983313032\n",
      "Current iteration=8, the loss=34647.94688911048\n",
      "Current iteration=9, the loss=34522.25415353451\n",
      "Current iteration=10, the loss=34344.24226595799\n",
      "Current iteration=11, the loss=34091.35591657624\n",
      "Current iteration=12, the loss=33733.737757624134\n"
     ]
    }
   ],
   "source": [
    "cat_col = 22\n",
    "PRI_jet_nums = np.unique(x_train[:, cat_col])\n",
    "predictions = np.zeros(x_test.shape[0])\n",
    "\n",
    "for num in PRI_jet_nums:\n",
    "    cat_indices = np.where(x_train[:, cat_col] == num)\n",
    "    \n",
    "    x_train_cat = x_train[cat_indices]\n",
    "    x_train_cat = np.delete(x_train_cat, cat_col, axis=1)\n",
    "    \n",
    "    stds = np.std(x_train_cat, axis=0)\n",
    "    deleted_cols_ids = np.where(stds == 0)\n",
    "    x_train_cat = np.delete(x_train_cat, deleted_cols_ids, axis=1)\n",
    "    mean_spec(x_train_cat)\n",
    "    x_train_cat = standardize(x_train_cat)\n",
    "    \n",
    "    _, w, _ = imp.logistic_regression(y_train[cat_indices],\n",
    "                                      x_train_cat,\n",
    "                                      max_iter=100,\n",
    "                                      threshold=10**(-4))\n",
    "    \n",
    "    x_test_cat = x_test[cat_indices]\n",
    "    x_test_cat = np.delete(x_test_cat, cat_col, axis=1)\n",
    "    x_test_cat = np.delete(x_test_cat, deleted_cols_ids, axis=1)\n",
    "    x_test_cat = standardize(x_test_cat)\n",
    "    \n",
    "    x_test_cat = np.hstack((np.ones((x_test_cat.shape[0], 1)), x_test_cat))\n",
    "    \n",
    "    predictions_cat = helper.predict_labels(w, x_test_cat)\n",
    "    predictions[cat_indices] = predictions_cat"
   ]
  },
  {
   "cell_type": "code",
   "execution_count": null,
   "metadata": {
    "collapsed": true
   },
   "outputs": [],
   "source": [
    "helper.create_csv_submission(ids_test, predictions, 'separated.csv')"
   ]
  },
  {
   "cell_type": "markdown",
   "metadata": {},
   "source": [
    "## Logistic regression"
   ]
  },
  {
   "cell_type": "code",
   "execution_count": null,
   "metadata": {
    "collapsed": true
   },
   "outputs": [],
   "source": [
    "niter = 5000"
   ]
  },
  {
   "cell_type": "code",
   "execution_count": null,
   "metadata": {
    "collapsed": true,
    "scrolled": true
   },
   "outputs": [],
   "source": [
    "start = time.perf_counter()\n",
    "l, w, data = imp.stochastic_logistic_regression(y_train, std_x_train, max_iter=niter, batch_size=150, threshold=10**(-4))\n",
    "end = time.perf_counter()"
   ]
  },
  {
   "cell_type": "code",
   "execution_count": null,
   "metadata": {
    "collapsed": true
   },
   "outputs": [],
   "source": [
    "print(\"Runtime:\", end - start)"
   ]
  },
  {
   "cell_type": "code",
   "execution_count": null,
   "metadata": {
    "collapsed": true
   },
   "outputs": [],
   "source": [
    "len(data)"
   ]
  },
  {
   "cell_type": "code",
   "execution_count": null,
   "metadata": {
    "collapsed": true
   },
   "outputs": [],
   "source": [
    "plt.plot(data[100:])"
   ]
  },
  {
   "cell_type": "code",
   "execution_count": null,
   "metadata": {
    "collapsed": true
   },
   "outputs": [],
   "source": [
    "print(\"Loss first iteration\", data[0])\n",
    "print(\"Loss iteration at iteration\", niter, data[-1])\n",
    "print(\"delta of losses\", data[0] - data[-1])"
   ]
  },
  {
   "cell_type": "code",
   "execution_count": null,
   "metadata": {
    "collapsed": true
   },
   "outputs": [],
   "source": [
    "std_x_test = np.hstack((np.ones((std_x_test.shape[0], 1)), std_x_test))                   "
   ]
  },
  {
   "cell_type": "code",
   "execution_count": null,
   "metadata": {
    "collapsed": true
   },
   "outputs": [],
   "source": [
    "predictions = helper.predict_labels(w, std_x_test)"
   ]
  },
  {
   "cell_type": "code",
   "execution_count": null,
   "metadata": {
    "collapsed": true
   },
   "outputs": [],
   "source": [
    "predictions"
   ]
  },
  {
   "cell_type": "code",
   "execution_count": null,
   "metadata": {
    "collapsed": true
   },
   "outputs": [],
   "source": [
    "helper.create_csv_submission(ids_test, predictions, 'newton.csv')"
   ]
  },
  {
   "cell_type": "markdown",
   "metadata": {},
   "source": [
    "### Raw least squares (score: ?)"
   ]
  },
  {
   "cell_type": "code",
   "execution_count": null,
   "metadata": {
    "collapsed": true
   },
   "outputs": [],
   "source": [
    "(w, loss) = imp.least_squares(y_train, x_train)\n",
    "loss"
   ]
  },
  {
   "cell_type": "markdown",
   "metadata": {},
   "source": [
    "### Std least squares (score: 0.73)"
   ]
  },
  {
   "cell_type": "code",
   "execution_count": null,
   "metadata": {
    "collapsed": true
   },
   "outputs": [],
   "source": [
    "(w, loss) = imp.least_squares(y_train, col_std_x_train)\n",
    "loss"
   ]
  },
  {
   "cell_type": "code",
   "execution_count": null,
   "metadata": {
    "collapsed": true
   },
   "outputs": [],
   "source": [
    "(w, loss) = imp.least_squares(y_train, std_x_train)\n",
    "loss"
   ]
  },
  {
   "cell_type": "markdown",
   "metadata": {},
   "source": [
    "### Eigenvalues reduction (score: 0.62)"
   ]
  },
  {
   "cell_type": "code",
   "execution_count": null,
   "metadata": {
    "collapsed": true
   },
   "outputs": [],
   "source": [
    "a = np.matrix([[1,2],[3,4]])\n",
    "np.tile(a, 2)"
   ]
  },
  {
   "cell_type": "code",
   "execution_count": null,
   "metadata": {
    "collapsed": true
   },
   "outputs": [],
   "source": [
    "std_x_train = standardize(x_train)"
   ]
  },
  {
   "cell_type": "code",
   "execution_count": null,
   "metadata": {
    "collapsed": true
   },
   "outputs": [],
   "source": [
    "u, s, v = np.linalg.svd(std_x_train, full_matrices=False)\n",
    "print('u shape:', u.shape)\n",
    "print('s shape:', s.shape)\n",
    "print('v shape:', v.shape)"
   ]
  },
  {
   "cell_type": "code",
   "execution_count": null,
   "metadata": {
    "collapsed": true
   },
   "outputs": [],
   "source": [
    "plt.plot(s)\n",
    "plt.yscale('log')\n",
    "plt.title('log')\n",
    "plt.grid(True)\n",
    "plt.show()"
   ]
  },
  {
   "cell_type": "code",
   "execution_count": null,
   "metadata": {
    "collapsed": true
   },
   "outputs": [],
   "source": [
    "shortened_x_train = u[:, :23] @ np.diag(s[:23]) @ v[:23,:]"
   ]
  },
  {
   "cell_type": "code",
   "execution_count": null,
   "metadata": {
    "collapsed": true
   },
   "outputs": [],
   "source": [
    "shortened_x_train.shape"
   ]
  },
  {
   "cell_type": "code",
   "execution_count": null,
   "metadata": {
    "collapsed": true
   },
   "outputs": [],
   "source": [
    "(w, loss) = imp.least_squares(y_train, x_train)"
   ]
  },
  {
   "cell_type": "code",
   "execution_count": null,
   "metadata": {
    "collapsed": true
   },
   "outputs": [],
   "source": [
    "loss"
   ]
  },
  {
   "cell_type": "code",
   "execution_count": null,
   "metadata": {
    "collapsed": true
   },
   "outputs": [],
   "source": [
    "y_pred = helper.predict_labels(w, x_test)"
   ]
  },
  {
   "cell_type": "code",
   "execution_count": null,
   "metadata": {
    "collapsed": true
   },
   "outputs": [],
   "source": [
    "print('Number of boson:', np.count_nonzero(y_pred+1))\n",
    "print('Number of other:', np.count_nonzero(y_pred-1))"
   ]
  },
  {
   "cell_type": "code",
   "execution_count": null,
   "metadata": {
    "collapsed": true
   },
   "outputs": [],
   "source": [
    "helper.create_csv_submission(ids_test, y_pred, 'shortened_eigenvalues_submission.csv')"
   ]
  },
  {
   "cell_type": "code",
   "execution_count": null,
   "metadata": {
    "collapsed": true
   },
   "outputs": [],
   "source": [
    "unique_values_per_column_count = [len(set(col)) for col in train_data.T]"
   ]
  },
  {
   "cell_type": "code",
   "execution_count": null,
   "metadata": {
    "collapsed": true
   },
   "outputs": [],
   "source": [
    "unique_values_per_column_count"
   ]
  },
  {
   "cell_type": "code",
   "execution_count": null,
   "metadata": {
    "collapsed": true
   },
   "outputs": [],
   "source": []
  },
  {
   "cell_type": "code",
   "execution_count": null,
   "metadata": {
    "collapsed": true
   },
   "outputs": [],
   "source": [
    "def y_map(y):\n",
    "    if y == -1:\n",
    "        return 0\n",
    "    else:\n",
    "        return 0.2\n",
    "\n",
    "y_train_mapped = np.vectorize(y_map)(y_train)"
   ]
  },
  {
   "cell_type": "markdown",
   "metadata": {},
   "source": [
    "### PCA"
   ]
  },
  {
   "cell_type": "code",
   "execution_count": null,
   "metadata": {
    "collapsed": true
   },
   "outputs": [],
   "source": [
    "square_train_data = std_x_train.T @ std_x_train"
   ]
  },
  {
   "cell_type": "code",
   "execution_count": null,
   "metadata": {
    "collapsed": true
   },
   "outputs": [],
   "source": [
    "w, v = np.linalg.eigh(square_train_data)"
   ]
  },
  {
   "cell_type": "code",
   "execution_count": null,
   "metadata": {
    "collapsed": true
   },
   "outputs": [],
   "source": [
    "print(w.shape[0])\n",
    "print(v.shape)"
   ]
  },
  {
   "cell_type": "code",
   "execution_count": null,
   "metadata": {
    "collapsed": true
   },
   "outputs": [],
   "source": [
    "w"
   ]
  },
  {
   "cell_type": "code",
   "execution_count": null,
   "metadata": {
    "collapsed": true
   },
   "outputs": [],
   "source": [
    "def keep_variance(percentage, vec):\n",
    "    r = list(range(1, w.shape[0] + 1))\n",
    "    total = np.sum(vec)\n",
    "    sums = list(map(lambda i: np.sum(vec[-i:]), r))\n",
    "    ratio = sums / total\n",
    "    return np.argmin(abs(ratio - percentage)) + 1"
   ]
  },
  {
   "cell_type": "code",
   "execution_count": null,
   "metadata": {
    "collapsed": true
   },
   "outputs": [],
   "source": [
    "index_keeper = keep_variance(0.9, w)\n",
    "print(index_keeper)"
   ]
  },
  {
   "cell_type": "code",
   "execution_count": null,
   "metadata": {
    "collapsed": true,
    "scrolled": true
   },
   "outputs": [],
   "source": [
    "plt.plot(w)\n",
    "plt.yscale('log')\n",
    "plt.title('log')\n",
    "plt.grid(True)\n",
    "plt.show()"
   ]
  },
  {
   "cell_type": "code",
   "execution_count": null,
   "metadata": {
    "collapsed": true
   },
   "outputs": [],
   "source": [
    "filtered_v = v[:,-index_keeper:]"
   ]
  },
  {
   "cell_type": "code",
   "execution_count": null,
   "metadata": {
    "collapsed": true
   },
   "outputs": [],
   "source": [
    "filtered_v.shape"
   ]
  },
  {
   "cell_type": "code",
   "execution_count": null,
   "metadata": {
    "collapsed": true
   },
   "outputs": [],
   "source": [
    "project_x_train = std_x_train @ filtered_v"
   ]
  },
  {
   "cell_type": "code",
   "execution_count": null,
   "metadata": {
    "collapsed": true
   },
   "outputs": [],
   "source": []
  },
  {
   "cell_type": "code",
   "execution_count": null,
   "metadata": {
    "collapsed": true
   },
   "outputs": [],
   "source": [
    "tupled_boson = np.array(list(zip(*filter(lambda pair: pair[1] == -1, zip(project_x_train.tolist(), y_train))))[0])\n",
    "tupled_other = np.array(list(zip(*filter(lambda pair: pair[1] == 1, zip(project_x_train.tolist(), y_train))))[0])"
   ]
  },
  {
   "cell_type": "code",
   "execution_count": null,
   "metadata": {
    "collapsed": true
   },
   "outputs": [],
   "source": [
    "tupled_boson.shape"
   ]
  },
  {
   "cell_type": "code",
   "execution_count": null,
   "metadata": {
    "collapsed": true
   },
   "outputs": [],
   "source": [
    "plt.plot(tupled_boson[1000:2000, :1], tupled_boson[1000:2000, 1:], 'bo')\n",
    "plt.plot(tupled_other[1000:2000, :1], tupled_other[1000:2000, 1:], 'ro')\n",
    "plt.show()"
   ]
  },
  {
   "cell_type": "code",
   "execution_count": null,
   "metadata": {
    "collapsed": true
   },
   "outputs": [],
   "source": [
    "(weight, loss) = imp.least_squares(y_train, project_x_train)"
   ]
  },
  {
   "cell_type": "code",
   "execution_count": null,
   "metadata": {
    "collapsed": true
   },
   "outputs": [],
   "source": [
    "loss"
   ]
  },
  {
   "cell_type": "code",
   "execution_count": null,
   "metadata": {
    "collapsed": true
   },
   "outputs": [],
   "source": [
    "y_pred = helper.predict_labels(weight, std_x_test @ filtered_v)"
   ]
  },
  {
   "cell_type": "code",
   "execution_count": null,
   "metadata": {
    "collapsed": true
   },
   "outputs": [],
   "source": [
    "print('Number of boson:', np.count_nonzero(y_pred+1))\n",
    "print('Number of other:', np.count_nonzero(y_pred-1))"
   ]
  },
  {
   "cell_type": "markdown",
   "metadata": {
    "collapsed": true
   },
   "source": [
    "### Polynomial feature"
   ]
  },
  {
   "cell_type": "code",
   "execution_count": null,
   "metadata": {
    "collapsed": true,
    "scrolled": true
   },
   "outputs": [],
   "source": [
    "np.array(range(2))"
   ]
  },
  {
   "cell_type": "code",
   "execution_count": null,
   "metadata": {
    "collapsed": true
   },
   "outputs": [],
   "source": [
    "def polynomial_enhancement(x, deg):\n",
    "    stacked_x = np.tile(x, deg+1)\n",
    "    power_vec = np.repeat(np.array(range(deg+1)), x.shape[1])\n",
    "    return stacked_x ** power_vec"
   ]
  },
  {
   "cell_type": "code",
   "execution_count": null,
   "metadata": {
    "collapsed": true
   },
   "outputs": [],
   "source": [
    "enhanced_col_std_x_train = polynomial_enhancement(std_x_train, 9)\n",
    "enhanced_col_std_x_test = polynomial_enhancement(std_x_test, 9)\n",
    "enhanced_col_std_x_train.shape"
   ]
  },
  {
   "cell_type": "code",
   "execution_count": null,
   "metadata": {
    "collapsed": true
   },
   "outputs": [],
   "source": [
    "def pseudo_least_squares(y, x):\n",
    "    U, S, V = np.linalg.svd(x, full_matrices=False)\n",
    "    w = V.T @ np.diag(1/S) @ U.T @ y\n",
    "    loss = imp.mse(y, x, w)\n",
    "    return (w, loss)"
   ]
  },
  {
   "cell_type": "code",
   "execution_count": null,
   "metadata": {
    "collapsed": true
   },
   "outputs": [],
   "source": [
    "(w, loss) = pseudo_least_squares(y_train, enhanced_col_std_x_train)\n",
    "loss"
   ]
  },
  {
   "cell_type": "code",
   "execution_count": null,
   "metadata": {
    "collapsed": true
   },
   "outputs": [],
   "source": [
    "y_pred = helper.predict_labels(w, enhanced_col_std_x_test)"
   ]
  },
  {
   "cell_type": "code",
   "execution_count": null,
   "metadata": {
    "collapsed": true
   },
   "outputs": [],
   "source": [
    "helper.create_csv_submission(ids_test, y_pred, 'basic_poly_enhancement_9.csv')"
   ]
  },
  {
   "cell_type": "markdown",
   "metadata": {},
   "source": [
    "#### Cross validation"
   ]
  },
  {
   "cell_type": "code",
   "execution_count": null,
   "metadata": {
    "collapsed": true,
    "scrolled": true
   },
   "outputs": [],
   "source": [
    "acc, loss_train, loss_test, w = imp.cross_validation_v2(y_train, std_x_train, 10, imp.pseudo_least_squares, 5)"
   ]
  },
  {
   "cell_type": "code",
   "execution_count": null,
   "metadata": {
    "collapsed": true
   },
   "outputs": [],
   "source": [
    "acc"
   ]
  },
  {
   "cell_type": "code",
   "execution_count": null,
   "metadata": {
    "collapsed": true
   },
   "outputs": [],
   "source": [
    "enhanced_col_std_x_test = imp.polynomial_enhancement(std_x_test, 5)"
   ]
  },
  {
   "cell_type": "code",
   "execution_count": null,
   "metadata": {
    "collapsed": true
   },
   "outputs": [],
   "source": [
    "y_pred = helper.predict_labels(w, enhanced_col_std_x_test)"
   ]
  },
  {
   "cell_type": "code",
   "execution_count": null,
   "metadata": {
    "collapsed": true
   },
   "outputs": [],
   "source": [
    "helper.create_csv_submission(ids_test, y_pred, '0_8_accuracy_poly_5.csv')"
   ]
  },
  {
   "cell_type": "code",
   "execution_count": null,
   "metadata": {
    "collapsed": true
   },
   "outputs": [],
   "source": [
    "test = []\n",
    "\n",
    "test.append(1)\n",
    "test"
   ]
  },
  {
   "cell_type": "code",
   "execution_count": null,
   "metadata": {
    "collapsed": true
   },
   "outputs": [],
   "source": [
    "acc, loss_train, loss_test, w = imp.cross_validation_v2(y_train, std_x_train, 10, imp.pseudo_least_squares, 5)"
   ]
  }
 ],
 "metadata": {
  "kernelspec": {
   "display_name": "Python 3",
   "language": "python",
   "name": "python3"
  },
  "language_info": {
   "codemirror_mode": {
    "name": "ipython",
    "version": 3
   },
   "file_extension": ".py",
   "mimetype": "text/x-python",
   "name": "python",
   "nbconvert_exporter": "python",
   "pygments_lexer": "ipython3",
   "version": "3.6.1"
  }
 },
 "nbformat": 4,
 "nbformat_minor": 2
}
