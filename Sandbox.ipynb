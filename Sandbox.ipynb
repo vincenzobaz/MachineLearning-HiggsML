{
 "cells": [
  {
   "cell_type": "code",
   "execution_count": 38,
   "metadata": {},
   "outputs": [
    {
     "name": "stdout",
     "output_type": "stream",
     "text": [
      "The autoreload extension is already loaded. To reload it, use:\n",
      "  %reload_ext autoreload\n"
     ]
    }
   ],
   "source": [
    "import scripts.proj1_helpers as helper\n",
    "import implementations as imp\n",
    "import numpy as np\n",
    "import pandas as pd\n",
    "import matplotlib.pyplot as plt\n",
    "import time\n",
    "%matplotlib inline\n",
    "%load_ext autoreload\n",
    "%autoreload 2"
   ]
  },
  {
   "cell_type": "markdown",
   "metadata": {},
   "source": [
    "boson is -1\n",
    "\n",
    "not boson is 1"
   ]
  },
  {
   "cell_type": "code",
   "execution_count": 6,
   "metadata": {},
   "outputs": [
    {
     "name": "stdout",
     "output_type": "stream",
     "text": [
      "(250000, 30)\n",
      "(568238, 30)\n"
     ]
    }
   ],
   "source": [
    "y_train, x_train, ids_train = helper.load_csv_data('train.csv')\n",
    "y_test, x_test, ids_test = helper.load_csv_data('test.csv')\n",
    "print(x_train.shape)\n",
    "print(x_test.shape)"
   ]
  },
  {
   "cell_type": "code",
   "execution_count": 7,
   "metadata": {},
   "outputs": [
    {
     "name": "stdout",
     "output_type": "stream",
     "text": [
      "Number of boson: 164333\n",
      "Number of other: 85667\n"
     ]
    }
   ],
   "source": [
    "print('Number of boson:', np.count_nonzero(y_train-1))\n",
    "print('Number of other:', np.count_nonzero(y_train+1))"
   ]
  },
  {
   "cell_type": "code",
   "execution_count": 8,
   "metadata": {
    "collapsed": true
   },
   "outputs": [],
   "source": [
    "def col_standardize(x):\n",
    "    means = [np.mean(col) for col in x.T]\n",
    "    stds = [np.std(col) for col in x.T]\n",
    "    return (x - means) / stds"
   ]
  },
  {
   "cell_type": "code",
   "execution_count": 9,
   "metadata": {
    "collapsed": true
   },
   "outputs": [],
   "source": [
    "def standardize(x):\n",
    "    return (x - np.mean(x, axis=0)) / np.std(x, axis=0)"
   ]
  },
  {
   "cell_type": "code",
   "execution_count": 10,
   "metadata": {
    "collapsed": true
   },
   "outputs": [],
   "source": [
    "std_x_train = standardize(x_train)\n",
    "std_x_test = standardize(x_test)"
   ]
  },
  {
   "cell_type": "code",
   "execution_count": 11,
   "metadata": {
    "collapsed": true
   },
   "outputs": [],
   "source": [
    "col_std_x_train = col_standardize(x_train)\n",
    "col_std_x_test = col_standardize(x_test)"
   ]
  },
  {
   "cell_type": "code",
   "execution_count": 12,
   "metadata": {
    "collapsed": true
   },
   "outputs": [],
   "source": [
    "y_train[y_train < 0] = 0"
   ]
  },
  {
   "cell_type": "markdown",
   "metadata": {},
   "source": [
    "### Logistic regression"
   ]
  },
  {
   "cell_type": "code",
   "execution_count": 29,
   "metadata": {
    "collapsed": true
   },
   "outputs": [],
   "source": [
    "niter = 5000"
   ]
  },
  {
   "cell_type": "code",
   "execution_count": 39,
   "metadata": {
    "scrolled": true
   },
   "outputs": [
    {
     "name": "stdout",
     "output_type": "stream",
     "text": [
      "Current iteration=0, the loss=173286.79513998624\n",
      "Current iteration=1, the loss=173206.5580415316\n",
      "Current iteration=2, the loss=173126.48134782992\n",
      "Current iteration=3, the loss=173046.56446238823\n",
      "Current iteration=4, the loss=172966.80698363355\n",
      "Current iteration=5, the loss=172887.20840877935\n",
      "Current iteration=6, the loss=172807.76833230248\n",
      "Current iteration=7, the loss=172728.48630748823\n",
      "Current iteration=8, the loss=172570.31605323713\n",
      "Current iteration=9, the loss=172412.7732563462\n",
      "Current iteration=10, the loss=172177.51207722406\n",
      "Current iteration=11, the loss=171943.64415254342\n",
      "Current iteration=12, the loss=171633.81676113786\n",
      "Current iteration=13, the loss=171249.76312843905\n",
      "Current iteration=14, the loss=170793.6260771126\n",
      "Current iteration=15, the loss=170267.92910415996\n",
      "Current iteration=16, the loss=169601.82962293577\n",
      "Current iteration=17, the loss=168802.53625572575\n",
      "Current iteration=18, the loss=167807.9715390334\n",
      "Current iteration=19, the loss=166633.73635603936\n",
      "Current iteration=20, the loss=165297.69674979552\n",
      "Current iteration=21, the loss=163692.45039493448\n",
      "Current iteration=22, the loss=161856.74139997258\n",
      "Current iteration=23, the loss=159775.6669797487\n",
      "Current iteration=24, the loss=157398.0089347702\n",
      "Current iteration=25, the loss=154803.94120718545\n",
      "Current iteration=26, the loss=151985.02634160168\n",
      "Current iteration=27, the loss=148965.8185610943\n",
      "Current iteration=28, the loss=145835.95082337875\n",
      "Current iteration=29, the loss=142661.25004801332\n",
      "Current iteration=30, the loss=139550.61637451354\n",
      "Current iteration=31, the loss=136584.24594170542\n",
      "Current iteration=32, the loss=133844.46281714534\n",
      "Current iteration=33, the loss=131431.47933173127\n",
      "Current iteration=34, the loss=129384.99326433177\n",
      "Current iteration=35, the loss=127733.61861687219\n",
      "Current iteration=36, the loss=126482.87688555737\n",
      "Current iteration=37, the loss=125592.87522427847\n",
      "Current iteration=38, the loss=125003.362984115\n",
      "Current iteration=39, the loss=124643.2200012335\n",
      "Current iteration=40, the loss=124439.18774788361\n",
      "Current iteration=41, the loss=124332.25073481622\n",
      "Current iteration=42, the loss=124279.58410522847\n",
      "Current iteration=43, the loss=124255.07484492846\n",
      "Current iteration=44, the loss=124244.14080726347\n",
      "Current iteration=45, the loss=124239.41850404335\n",
      "Current iteration=46, the loss=124237.41633037613\n",
      "Current iteration=47, the loss=124236.58426017339\n",
      "Current iteration=48, the loss=124236.24103211523\n",
      "Current iteration=49, the loss=124236.10029465804\n",
      "Current iteration=50, the loss=124236.04299675014\n",
      "Current iteration=51, the loss=124236.01969733907\n",
      "Current iteration=52, the loss=124236.01021000209\n",
      "Current iteration=53, the loss=124236.00636906011\n",
      "Current iteration=54, the loss=124236.00481455046\n",
      "Current iteration=55, the loss=124236.00418553548\n",
      "Current iteration=56, the loss=124236.00393104463\n",
      "Current iteration=57, the loss=124236.00382808941\n"
     ]
    }
   ],
   "source": [
    "start = time.perf_counter()\n",
    "l, w, data = imp.stochastic_logistic_regression(y_train, std_x_train, max_iter=niter, batch_size=150, threshold=10**(-4))\n",
    "end = time.perf_counter()"
   ]
  },
  {
   "cell_type": "code",
   "execution_count": 50,
   "metadata": {},
   "outputs": [
    {
     "name": "stdout",
     "output_type": "stream",
     "text": [
      "Runtime: 124.4136517170009\n"
     ]
    }
   ],
   "source": [
    "print(\"Runtime:\", end - start)"
   ]
  },
  {
   "cell_type": "code",
   "execution_count": 49,
   "metadata": {},
   "outputs": [
    {
     "data": {
      "text/plain": [
       "58"
      ]
     },
     "execution_count": 49,
     "metadata": {},
     "output_type": "execute_result"
    }
   ],
   "source": [
    "len(data)"
   ]
  },
  {
   "cell_type": "code",
   "execution_count": 48,
   "metadata": {},
   "outputs": [
    {
     "data": {
      "text/plain": [
       "[<matplotlib.lines.Line2D at 0x7efc7465a780>]"
      ]
     },
     "execution_count": 48,
     "metadata": {},
     "output_type": "execute_result"
    },
    {
     "data": {
      "image/png": "[encoded data removed]",
      "text/plain": [
       "<matplotlib.figure.Figure at 0x7efc746ec048>"
      ]
     },
     "metadata": {},
     "output_type": "display_data"
    }
   ],
   "source": [
    "plt.plot(data[100:])"
   ]
  },
  {
   "cell_type": "code",
   "execution_count": 43,
   "metadata": {},
   "outputs": [
    {
     "name": "stdout",
     "output_type": "stream",
     "text": [
      "Loss first iteration 173286.79514\n",
      "Loss iteration at iteration 5000 124236.003828\n",
      "delta of losses 49050.7913119\n"
     ]
    }
   ],
   "source": [
    "print(\"Loss first iteration\", data[0])\n",
    "print(\"Loss iteration at iteration\", niter, data[-1])\n",
    "print(\"delta of losses\", data[0] - data[-1])\n"
   ]
  },
  {
   "cell_type": "code",
   "execution_count": 55,
   "metadata": {
    "collapsed": true
   },
   "outputs": [],
   "source": [
    "std_x_test = np.hstack((np.ones((std_x_test.shape[0], 1)), std_x_test))                   "
   ]
  },
  {
   "cell_type": "code",
   "execution_count": 56,
   "metadata": {},
   "outputs": [],
   "source": [
    "predictions = helper.predict_labels(w, std_x_test)"
   ]
  },
  {
   "cell_type": "code",
   "execution_count": 57,
   "metadata": {},
   "outputs": [
    {
     "data": {
      "text/plain": [
       "array([[-1.],\n",
       "       [-1.],\n",
       "       [-1.],\n",
       "       ..., \n",
       "       [ 1.],\n",
       "       [ 1.],\n",
       "       [-1.]])"
      ]
     },
     "execution_count": 57,
     "metadata": {},
     "output_type": "execute_result"
    }
   ],
   "source": [
    "predictions"
   ]
  },
  {
   "cell_type": "code",
   "execution_count": 58,
   "metadata": {
    "collapsed": true
   },
   "outputs": [],
   "source": [
    "helper.create_csv_submission(ids_test, predictions, 'newton.csv')"
   ]
  },
  {
   "cell_type": "markdown",
   "metadata": {},
   "source": [
    "### Raw least squares (score: ?)"
   ]
  },
  {
   "cell_type": "code",
   "execution_count": null,
   "metadata": {
    "collapsed": true
   },
   "outputs": [],
   "source": [
    "(w, loss) = imp.least_squares(y_train, x_train)\n",
    "loss"
   ]
  },
  {
   "cell_type": "markdown",
   "metadata": {},
   "source": [
    "### Std least squares (score: 0.73)"
   ]
  },
  {
   "cell_type": "code",
   "execution_count": null,
   "metadata": {
    "collapsed": true
   },
   "outputs": [],
   "source": [
    "(w, loss) = imp.least_squares(y_train, col_std_x_train)\n",
    "loss"
   ]
  },
  {
   "cell_type": "code",
   "execution_count": null,
   "metadata": {
    "collapsed": true
   },
   "outputs": [],
   "source": [
    "(w, loss) = imp.least_squares(y_train, std_x_train)\n",
    "loss"
   ]
  },
  {
   "cell_type": "markdown",
   "metadata": {},
   "source": [
    "### Eigenvalues reduction (score: 0.62)"
   ]
  },
  {
   "cell_type": "code",
   "execution_count": null,
   "metadata": {
    "collapsed": true
   },
   "outputs": [],
   "source": [
    "a = np.matrix([[1,2],[3,4]])\n",
    "np.tile(a, 2)"
   ]
  },
  {
   "cell_type": "code",
   "execution_count": null,
   "metadata": {
    "collapsed": true
   },
   "outputs": [],
   "source": [
    "std_x_train = standardize(x_train)"
   ]
  },
  {
   "cell_type": "code",
   "execution_count": null,
   "metadata": {
    "collapsed": true
   },
   "outputs": [],
   "source": [
    "u, s, v = np.linalg.svd(std_x_train, full_matrices=False)\n",
    "print('u shape:', u.shape)\n",
    "print('s shape:', s.shape)\n",
    "print('v shape:', v.shape)"
   ]
  },
  {
   "cell_type": "code",
   "execution_count": null,
   "metadata": {
    "collapsed": true
   },
   "outputs": [],
   "source": [
    "plt.plot(s)\n",
    "plt.yscale('log')\n",
    "plt.title('log')\n",
    "plt.grid(True)\n",
    "plt.show()"
   ]
  },
  {
   "cell_type": "code",
   "execution_count": null,
   "metadata": {
    "collapsed": true
   },
   "outputs": [],
   "source": [
    "shortened_x_train = u[:, :23] @ np.diag(s[:23]) @ v[:23,:]"
   ]
  },
  {
   "cell_type": "code",
   "execution_count": null,
   "metadata": {
    "collapsed": true
   },
   "outputs": [],
   "source": [
    "shortened_x_train.shape"
   ]
  },
  {
   "cell_type": "code",
   "execution_count": null,
   "metadata": {
    "collapsed": true
   },
   "outputs": [],
   "source": [
    "(w, loss) = imp.least_squares(y_train, x_train)"
   ]
  },
  {
   "cell_type": "code",
   "execution_count": null,
   "metadata": {
    "collapsed": true
   },
   "outputs": [],
   "source": [
    "loss"
   ]
  },
  {
   "cell_type": "code",
   "execution_count": null,
   "metadata": {
    "collapsed": true
   },
   "outputs": [],
   "source": [
    "y_pred = helper.predict_labels(w, x_test)"
   ]
  },
  {
   "cell_type": "code",
   "execution_count": null,
   "metadata": {
    "collapsed": true
   },
   "outputs": [],
   "source": [
    "print('Number of boson:', np.count_nonzero(y_pred+1))\n",
    "print('Number of other:', np.count_nonzero(y_pred-1))"
   ]
  },
  {
   "cell_type": "code",
   "execution_count": null,
   "metadata": {
    "collapsed": true
   },
   "outputs": [],
   "source": [
    "helper.create_csv_submission(ids_test, y_pred, 'shortened_eigenvalues_submission.csv')"
   ]
  },
  {
   "cell_type": "code",
   "execution_count": null,
   "metadata": {
    "collapsed": true
   },
   "outputs": [],
   "source": [
    "unique_values_per_column_count = [len(set(col)) for col in train_data.T]"
   ]
  },
  {
   "cell_type": "code",
   "execution_count": null,
   "metadata": {
    "collapsed": true
   },
   "outputs": [],
   "source": [
    "unique_values_per_column_count"
   ]
  },
  {
   "cell_type": "code",
   "execution_count": null,
   "metadata": {
    "collapsed": true
   },
   "outputs": [],
   "source": []
  },
  {
   "cell_type": "code",
   "execution_count": null,
   "metadata": {
    "collapsed": true
   },
   "outputs": [],
   "source": [
    "def y_map(y):\n",
    "    if y == -1:\n",
    "        return 0\n",
    "    else:\n",
    "        return 0.2\n",
    "\n",
    "y_train_mapped = np.vectorize(y_map)(y_train)"
   ]
  },
  {
   "cell_type": "markdown",
   "metadata": {},
   "source": [
    "### PCA"
   ]
  },
  {
   "cell_type": "code",
   "execution_count": null,
   "metadata": {
    "collapsed": true
   },
   "outputs": [],
   "source": [
    "square_train_data = std_x_train.T @ std_x_train"
   ]
  },
  {
   "cell_type": "code",
   "execution_count": null,
   "metadata": {
    "collapsed": true
   },
   "outputs": [],
   "source": [
    "w, v = np.linalg.eigh(square_train_data)"
   ]
  },
  {
   "cell_type": "code",
   "execution_count": null,
   "metadata": {
    "collapsed": true
   },
   "outputs": [],
   "source": [
    "print(w.shape[0])\n",
    "print(v.shape)"
   ]
  },
  {
   "cell_type": "code",
   "execution_count": null,
   "metadata": {
    "collapsed": true
   },
   "outputs": [],
   "source": [
    "w"
   ]
  },
  {
   "cell_type": "code",
   "execution_count": null,
   "metadata": {
    "collapsed": true
   },
   "outputs": [],
   "source": [
    "def keep_variance(percentage, vec):\n",
    "    r = list(range(1, w.shape[0] + 1))\n",
    "    total = np.sum(vec)\n",
    "    sums = list(map(lambda i: np.sum(vec[-i:]), r))\n",
    "    ratio = sums / total\n",
    "    return np.argmin(abs(ratio - percentage)) + 1"
   ]
  },
  {
   "cell_type": "code",
   "execution_count": null,
   "metadata": {
    "collapsed": true
   },
   "outputs": [],
   "source": [
    "index_keeper = keep_variance(0.9, w)\n",
    "print(index_keeper)"
   ]
  },
  {
   "cell_type": "code",
   "execution_count": null,
   "metadata": {
    "collapsed": true,
    "scrolled": true
   },
   "outputs": [],
   "source": [
    "plt.plot(w)\n",
    "plt.yscale('log')\n",
    "plt.title('log')\n",
    "plt.grid(True)\n",
    "plt.show()"
   ]
  },
  {
   "cell_type": "code",
   "execution_count": null,
   "metadata": {
    "collapsed": true
   },
   "outputs": [],
   "source": [
    "filtered_v = v[:,-index_keeper:]"
   ]
  },
  {
   "cell_type": "code",
   "execution_count": null,
   "metadata": {
    "collapsed": true
   },
   "outputs": [],
   "source": [
    "filtered_v.shape"
   ]
  },
  {
   "cell_type": "code",
   "execution_count": null,
   "metadata": {
    "collapsed": true
   },
   "outputs": [],
   "source": [
    "project_x_train = std_x_train @ filtered_v"
   ]
  },
  {
   "cell_type": "code",
   "execution_count": null,
   "metadata": {
    "collapsed": true
   },
   "outputs": [],
   "source": []
  },
  {
   "cell_type": "code",
   "execution_count": null,
   "metadata": {
    "collapsed": true
   },
   "outputs": [],
   "source": [
    "tupled_boson = np.array(list(zip(*filter(lambda pair: pair[1] == -1, zip(project_x_train.tolist(), y_train))))[0])\n",
    "tupled_other = np.array(list(zip(*filter(lambda pair: pair[1] == 1, zip(project_x_train.tolist(), y_train))))[0])"
   ]
  },
  {
   "cell_type": "code",
   "execution_count": null,
   "metadata": {
    "collapsed": true
   },
   "outputs": [],
   "source": [
    "tupled_boson.shape"
   ]
  },
  {
   "cell_type": "code",
   "execution_count": null,
   "metadata": {
    "collapsed": true
   },
   "outputs": [],
   "source": [
    "plt.plot(tupled_boson[1000:2000, :1], tupled_boson[1000:2000, 1:], 'bo')\n",
    "plt.plot(tupled_other[1000:2000, :1], tupled_other[1000:2000, 1:], 'ro')\n",
    "plt.show()"
   ]
  },
  {
   "cell_type": "code",
   "execution_count": null,
   "metadata": {
    "collapsed": true
   },
   "outputs": [],
   "source": [
    "(weight, loss) = imp.least_squares(y_train, project_x_train)"
   ]
  },
  {
   "cell_type": "code",
   "execution_count": null,
   "metadata": {
    "collapsed": true
   },
   "outputs": [],
   "source": [
    "loss"
   ]
  },
  {
   "cell_type": "code",
   "execution_count": null,
   "metadata": {
    "collapsed": true
   },
   "outputs": [],
   "source": [
    "y_pred = helper.predict_labels(weight, std_x_test @ filtered_v)"
   ]
  },
  {
   "cell_type": "code",
   "execution_count": null,
   "metadata": {
    "collapsed": true
   },
   "outputs": [],
   "source": [
    "print('Number of boson:', np.count_nonzero(y_pred+1))\n",
    "print('Number of other:', np.count_nonzero(y_pred-1))"
   ]
  },
  {
   "cell_type": "markdown",
   "metadata": {
    "collapsed": true
   },
   "source": [
    "### Polynomial feature"
   ]
  },
  {
   "cell_type": "code",
   "execution_count": null,
   "metadata": {
    "collapsed": true,
    "scrolled": true
   },
   "outputs": [],
   "source": [
    "np.array(range(2))"
   ]
  },
  {
   "cell_type": "code",
   "execution_count": null,
   "metadata": {
    "collapsed": true
   },
   "outputs": [],
   "source": [
    "def polynomial_enhancement(x, deg):\n",
    "    stacked_x = np.tile(x, deg+1)\n",
    "    power_vec = np.repeat(np.array(range(deg+1)), x.shape[1])\n",
    "    return stacked_x ** power_vec"
   ]
  },
  {
   "cell_type": "code",
   "execution_count": null,
   "metadata": {
    "collapsed": true
   },
   "outputs": [],
   "source": [
    "enhanced_col_std_x_train = polynomial_enhancement(std_x_train, 9)\n",
    "enhanced_col_std_x_test = polynomial_enhancement(std_x_test, 9)\n",
    "enhanced_col_std_x_train.shape"
   ]
  },
  {
   "cell_type": "code",
   "execution_count": null,
   "metadata": {
    "collapsed": true
   },
   "outputs": [],
   "source": [
    "def pseudo_least_squares(y, x):\n",
    "    U, S, V = np.linalg.svd(x, full_matrices=False)\n",
    "    w = V.T @ np.diag(1/S) @ U.T @ y\n",
    "    loss = imp.mse(y, x, w)\n",
    "    return (w, loss)"
   ]
  },
  {
   "cell_type": "code",
   "execution_count": null,
   "metadata": {
    "collapsed": true
   },
   "outputs": [],
   "source": [
    "(w, loss) = pseudo_least_squares(y_train, enhanced_col_std_x_train)\n",
    "loss"
   ]
  },
  {
   "cell_type": "code",
   "execution_count": null,
   "metadata": {
    "collapsed": true
   },
   "outputs": [],
   "source": [
    "y_pred = helper.predict_labels(w, enhanced_col_std_x_test)"
   ]
  },
  {
   "cell_type": "code",
   "execution_count": null,
   "metadata": {
    "collapsed": true
   },
   "outputs": [],
   "source": [
    "helper.create_csv_submission(ids_test, y_pred, 'basic_poly_enhancement_9.csv')"
   ]
  },
  {
   "cell_type": "markdown",
   "metadata": {},
   "source": [
    "#### Cross validation"
   ]
  },
  {
   "cell_type": "code",
   "execution_count": null,
   "metadata": {
    "collapsed": true,
    "scrolled": true
   },
   "outputs": [],
   "source": [
    "acc, loss_train, loss_test, w = imp.cross_validation_v2(y_train, std_x_train, 10, imp.pseudo_least_squares, 5)"
   ]
  },
  {
   "cell_type": "code",
   "execution_count": null,
   "metadata": {
    "collapsed": true
   },
   "outputs": [],
   "source": [
    "acc"
   ]
  },
  {
   "cell_type": "code",
   "execution_count": null,
   "metadata": {
    "collapsed": true
   },
   "outputs": [],
   "source": [
    "enhanced_col_std_x_test = imp.polynomial_enhancement(std_x_test, 5)"
   ]
  },
  {
   "cell_type": "code",
   "execution_count": null,
   "metadata": {
    "collapsed": true
   },
   "outputs": [],
   "source": [
    "y_pred = helper.predict_labels(w, enhanced_col_std_x_test)"
   ]
  },
  {
   "cell_type": "code",
   "execution_count": null,
   "metadata": {
    "collapsed": true
   },
   "outputs": [],
   "source": [
    "helper.create_csv_submission(ids_test, y_pred, '0_8_accuracy_poly_5.csv')"
   ]
  },
  {
   "cell_type": "code",
   "execution_count": null,
   "metadata": {
    "collapsed": true
   },
   "outputs": [],
   "source": [
    "test = []\n",
    "\n",
    "test.append(1)\n",
    "test"
   ]
  },
  {
   "cell_type": "code",
   "execution_count": null,
   "metadata": {
    "collapsed": true
   },
   "outputs": [],
   "source": [
    "acc, loss_train, loss_test, w = imp.cross_validation_v2(y_train, std_x_train, 10, imp.pseudo_least_squares, 5)"
   ]
  }
 ],
 "metadata": {
  "kernelspec": {
   "display_name": "Python 3",
   "language": "python",
   "name": "python3"
  },
  "language_info": {
   "codemirror_mode": {
    "name": "ipython",
    "version": 3
   },
   "file_extension": ".py",
   "mimetype": "text/x-python",
   "name": "python",
   "nbconvert_exporter": "python",
   "pygments_lexer": "ipython3",
   "version": "3.6.1"
  }
 },
 "nbformat": 4,
 "nbformat_minor": 2
}
